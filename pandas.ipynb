{
 "cells": [
  {
   "cell_type": "code",
   "execution_count": 2,
   "metadata": {},
   "outputs": [
    {
     "data": {
      "text/plain": [
       "array([[0., 0.],\n",
       "       [0., 0.],\n",
       "       [0., 0.],\n",
       "       [0., 0.],\n",
       "       [0., 0.]])"
      ]
     },
     "execution_count": 2,
     "metadata": {},
     "output_type": "execute_result"
    }
   ],
   "source": [
    "import numpy as deb\n",
    "som = deb.zeros([5,2])\n",
    "som"
   ]
  },
  {
   "cell_type": "code",
   "execution_count": 15,
   "metadata": {},
   "outputs": [
    {
     "data": {
      "text/plain": [
       "array([[0.51677246, 0.28896038, 0.06341655, 0.13577667, 0.35362709,\n",
       "        0.48389331],\n",
       "       [0.54449903, 0.41295772, 0.16305286, 0.82954959, 0.52834381,\n",
       "        0.98771816],\n",
       "       [0.46378852, 0.42256087, 0.94067925, 0.97151738, 0.84994703,\n",
       "        0.53285241]])"
      ]
     },
     "execution_count": 15,
     "metadata": {},
     "output_type": "execute_result"
    }
   ],
   "source": [
    "vec1 = deb.arange(2,10)\n",
    "vec1\n",
    "vec2 = deb.arange(3,11)\n",
    "vec3 = vec1*vec2\n",
    "vec4 = deb.sqrt(vec3)\n",
    "vec4\n",
    "random_mat = deb.random.rand(3,6)\n",
    "random_mat"
   ]
  },
  {
   "cell_type": "code",
   "execution_count": 24,
   "metadata": {},
   "outputs": [
    {
     "data": {
      "text/html": [
       "<div>\n",
       "<style scoped>\n",
       "    .dataframe tbody tr th:only-of-type {\n",
       "        vertical-align: middle;\n",
       "    }\n",
       "\n",
       "    .dataframe tbody tr th {\n",
       "        vertical-align: top;\n",
       "    }\n",
       "\n",
       "    .dataframe thead th {\n",
       "        text-align: right;\n",
       "    }\n",
       "</style>\n",
       "<table border=\"1\" class=\"dataframe\">\n",
       "  <thead>\n",
       "    <tr style=\"text-align: right;\">\n",
       "      <th></th>\n",
       "      <th>customer</th>\n",
       "      <th>dob</th>\n",
       "      <th>place</th>\n",
       "    </tr>\n",
       "  </thead>\n",
       "  <tbody>\n",
       "    <tr>\n",
       "      <th>0</th>\n",
       "      <td>101</td>\n",
       "      <td>1989-11-23</td>\n",
       "      <td>ctc</td>\n",
       "    </tr>\n",
       "    <tr>\n",
       "      <th>1</th>\n",
       "      <td>102</td>\n",
       "      <td>1989-11-22</td>\n",
       "      <td>bbsr</td>\n",
       "    </tr>\n",
       "    <tr>\n",
       "      <th>2</th>\n",
       "      <td>103</td>\n",
       "      <td>1989-11-21</td>\n",
       "      <td>bglr</td>\n",
       "    </tr>\n",
       "    <tr>\n",
       "      <th>3</th>\n",
       "      <td>104</td>\n",
       "      <td>1989-11-20</td>\n",
       "      <td>delhi</td>\n",
       "    </tr>\n",
       "    <tr>\n",
       "      <th>4</th>\n",
       "      <td>201</td>\n",
       "      <td>1989-01-23</td>\n",
       "      <td>bbsr</td>\n",
       "    </tr>\n",
       "    <tr>\n",
       "      <th>5</th>\n",
       "      <td>202</td>\n",
       "      <td>1989-10-22</td>\n",
       "      <td>ctc</td>\n",
       "    </tr>\n",
       "    <tr>\n",
       "      <th>6</th>\n",
       "      <td>203</td>\n",
       "      <td>1989-09-21</td>\n",
       "      <td>noida</td>\n",
       "    </tr>\n",
       "    <tr>\n",
       "      <th>7</th>\n",
       "      <td>204</td>\n",
       "      <td>1989-08-20</td>\n",
       "      <td>jaipur</td>\n",
       "    </tr>\n",
       "  </tbody>\n",
       "</table>\n",
       "</div>"
      ],
      "text/plain": [
       "   customer         dob   place\n",
       "0       101  1989-11-23     ctc\n",
       "1       102  1989-11-22    bbsr\n",
       "2       103  1989-11-21    bglr\n",
       "3       104  1989-11-20   delhi\n",
       "4       201  1989-01-23    bbsr\n",
       "5       202  1989-10-22     ctc\n",
       "6       203  1989-09-21   noida\n",
       "7       204  1989-08-20  jaipur"
      ]
     },
     "execution_count": 24,
     "metadata": {},
     "output_type": "execute_result"
    }
   ],
   "source": [
    "import pandas as table\n",
    "table1 = table.DataFrame({'customer':[101,102,103,104],'place':['ctc','bbsr','bglr','delhi'],'dob':['1989-11-23','1989-11-22','1989-11-21','1989-11-20']})\n",
    "table1\n",
    "table2 = table.DataFrame({'customer':[201,202,203,204],'place':['bbsr','ctc','noida','jaipur'],'dob':['1989-01-23','1989-10-22','1989-09-21','1989-08-20']},index=[4,5,6,7] )\n",
    "table2\n",
    "table.concat([table1,table2],axis=0,sort=True)"
   ]
  }
 ],
 "metadata": {
  "kernelspec": {
   "display_name": "Python 3",
   "language": "python",
   "name": "python3"
  },
  "language_info": {
   "codemirror_mode": {
    "name": "ipython",
    "version": 3
   },
   "file_extension": ".py",
   "mimetype": "text/x-python",
   "name": "python",
   "nbconvert_exporter": "python",
   "pygments_lexer": "ipython3",
   "version": "3.8.5"
  }
 },
 "nbformat": 4,
 "nbformat_minor": 4
}
