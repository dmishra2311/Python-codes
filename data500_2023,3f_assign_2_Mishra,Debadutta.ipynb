{
  "nbformat": 4,
  "nbformat_minor": 0,
  "metadata": {
    "date": 1595224864.810838,
    "filename": "linear_algebra.rst",
    "kernelspec": {
      "display_name": "Python 3",
      "language": "python",
      "name": "python3"
    },
    "language_info": {
      "codemirror_mode": {
        "name": "ipython",
        "version": 3
      },
      "file_extension": ".py",
      "mimetype": "text/x-python",
      "name": "python",
      "nbconvert_exporter": "python",
      "pygments_lexer": "ipython3",
      "version": "3.7.4"
    },
    "next_doc": {
      "link": "complex_and_trig",
      "title": "Complex Numbers and Trigonometry"
    },
    "prev_doc": {
      "link": "sir_model",
      "title": "Modeling COVID 19"
    },
    "title": "Linear Algebra",
    "colab": {
      "provenance": []
    }
  },
  "cells": [
    {
      "cell_type": "markdown",
      "metadata": {
        "id": "VZoEveCyWKcD"
      },
      "source": [
        "# Coding Assignment 2\n",
        "\n",
        "**Due**: 11:59 PM, November 3rd, 2023"
      ]
    },
    {
      "cell_type": "markdown",
      "metadata": {
        "id": "LqbyWxH6WKcG"
      },
      "source": [
        "**Name**: Mishra, Debadutta *(change this to your name)*"
      ]
    },
    {
      "cell_type": "markdown",
      "metadata": {
        "id": "iFz7skToWKcH"
      },
      "source": [
        "This assignment continues Python, and includes\n",
        "some NumPy.\n",
        "Some of you will know more convenient ways to accomplish these tasks, but for this assignment, I'd like you to stick with fundamental ways.\n",
        "In particular,\n",
        "do not use any packages (via `import` or `from`) other than `math`,\n",
        "`requests`, or `matplotlib` before the NumPy section.\n",
        "If you have any doubt about how I'd like a problem completed,\n",
        "please ask.\n",
        "\n",
        "The problems are partly in difficulty order,\n",
        "but not completely.\n",
        "Feel free to skip around.\n",
        "\n",
        "The problems on this assignment are relatively simple,\n",
        "and ChatGPT and similar will be able to provide answers.\n",
        "You are not allowed to use ChatGPT for this, however,\n",
        "because you need to understand the fundamentals first.\n",
        "\n",
        "**Submission**\n",
        "\n",
        "Submission will be by uploading to Brightspace."
      ]
    },
    {
      "cell_type": "markdown",
      "source": [
        "# **More Python**"
      ],
      "metadata": {
        "id": "cggQ_l_4zrIf"
      }
    },
    {
      "cell_type": "markdown",
      "source": [
        "# Magics\n",
        "You can give special non-Python \"directives\" to the backend using\n",
        "what are called \"magics\".\n",
        "A few important ones are:\n",
        "\n",
        "1. `%pip install`: Install additional packages.\n",
        "2. `%time some_statement`: Time a statement.\n",
        "2. `%memit some_statement`: Determine the memory usage of a statement.\n",
        "\n",
        "A few magics will be used below."
      ],
      "metadata": {
        "id": "k8cJi4iJQoQC"
      }
    },
    {
      "cell_type": "markdown",
      "source": [
        "# Multiline String Literal and Docstrings"
      ],
      "metadata": {
        "id": "qzGDHuogxsY5"
      }
    },
    {
      "cell_type": "markdown",
      "source": [
        "**1.** Create a string consisting of 3 separate lines.\n",
        "Use only one string literal.\n",
        "Print out the string literal to verify that it consists of three lines.\n",
        "(Hint, use a triple-quoted string literal.)"
      ],
      "metadata": {
        "id": "9GdWRgvMcM24"
      }
    },
    {
      "cell_type": "code",
      "execution_count": null,
      "metadata": {
        "id": "0b29dee1",
        "colab": {
          "base_uri": "https://localhost:8080/"
        },
        "outputId": "d64a263b-5e59-4457-d299-e57c0cffe428"
      },
      "outputs": [
        {
          "output_type": "stream",
          "name": "stdout",
          "text": [
            "tyuop\n",
            "tyoer\n",
            "dgfjks\n"
          ]
        }
      ],
      "source": [
        "# Put the string literal here.\n",
        "s = \"\"\"tyuop\n",
        "tyoer\n",
        "dgfjks\"\"\"\n",
        "print(s);"
      ]
    },
    {
      "cell_type": "markdown",
      "source": [
        "**2.** A *docstring* is a bare string literal immediately\n",
        "after the beginning of a function.\n",
        "For example,\n",
        "\n",
        "    def f:\n",
        "        '''This string is intended to document\n",
        "        the function and purpose of this function.\n",
        "        '''\n",
        "\n",
        "Come up with your own simple function below,\n",
        "and document it with a docstring."
      ],
      "metadata": {
        "id": "2N4_UTnHLiJP"
      }
    },
    {
      "cell_type": "code",
      "source": [
        "# Put your function here.\n",
        "def add(a,b):\n",
        "  ''' Takes two numbers\n",
        "  and returns the added result'''\n",
        "  return(a+b)\n",
        "a = float(input())\n",
        "b = float(input())\n",
        "print(add.__doc__)\n",
        "add(a,b)"
      ],
      "metadata": {
        "id": "AAIekYr9PxuP",
        "colab": {
          "base_uri": "https://localhost:8080/"
        },
        "outputId": "7cafb3a2-ce51-4601-b3de-9c60ddd8f256"
      },
      "execution_count": null,
      "outputs": [
        {
          "output_type": "stream",
          "name": "stdout",
          "text": [
            "2.3\n",
            "3.4\n",
            " Takes two numbers\n",
            "  and returns the added result\n"
          ]
        },
        {
          "output_type": "execute_result",
          "data": {
            "text/plain": [
              "5.699999999999999"
            ]
          },
          "metadata": {},
          "execution_count": 11
        }
      ]
    },
    {
      "cell_type": "markdown",
      "metadata": {
        "id": "93628857"
      },
      "source": [
        "# Conditional Expression"
      ]
    },
    {
      "cell_type": "markdown",
      "source": [
        "Write a function named `cond_assign(x, flag)`\n",
        "that will use a single conditional expression to assign `x` to the global variable `global_var` if `flag` is `True`,\n",
        "or assign 0 to `global_var` if `flag` is `False`."
      ],
      "metadata": {
        "id": "NADjt1zkZbVu"
      }
    },
    {
      "cell_type": "code",
      "execution_count": null,
      "metadata": {
        "id": "846848bd",
        "colab": {
          "base_uri": "https://localhost:8080/"
        },
        "outputId": "de8b87ba-cc74-4d3c-f8e5-44b0cd96700a"
      },
      "outputs": [
        {
          "output_type": "stream",
          "name": "stdout",
          "text": [
            "1\n",
            "0\n"
          ]
        }
      ],
      "source": [
        "# Put your answer here.\n",
        "def cond_assign(x, flag):\n",
        "  global global_var\n",
        "  global_var = x if flag == True else 0\n",
        "global_var = 0\n",
        "cond_assign(1, True)\n",
        "print(global_var)\n",
        "cond_assign(10, False)\n",
        "print(global_var)"
      ]
    },
    {
      "cell_type": "markdown",
      "source": [
        "The cell below will test your function."
      ],
      "metadata": {
        "id": "BG8vEkjoRvu5"
      }
    },
    {
      "cell_type": "code",
      "source": [
        "global_var = 0\n",
        "cond_assign(1, True)\n",
        "print(global_var)\n",
        "cond_assign(10, False)\n",
        "print(global_var)"
      ],
      "metadata": {
        "id": "SMxkBRnZR2bp"
      },
      "execution_count": null,
      "outputs": []
    },
    {
      "cell_type": "markdown",
      "source": [
        "# Square Root Using Binary Search"
      ],
      "metadata": {
        "id": "yYG7vqzNWMIS"
      }
    },
    {
      "cell_type": "markdown",
      "source": [
        "Write a function named `square_root(x)` that will use binary search,\n",
        "a small variation on Newton's Method,\n",
        "to find $y$, where $y = \\sqrt{x}$.\n",
        "It should return the square root.\n",
        "Start by finding the smallest integer $j$ such that $j^2 \\ge x$.\n",
        "If $j^2 = x$, then you are done.\n",
        "If not, let $i = j - 1$.\n",
        "Then $i < y < j$, and are your initial bounds for $y$.\n",
        "Compute a new guess for $y$ by averaging $i$ and $j$,\n",
        "and iterate.\n",
        "Stop when $y$ has converged.\n",
        "In other words,\n",
        "stop when your estimate of $y$ does not\n",
        "change from one iteration to the next.\n",
        "Note that this algorithm works because square root is a monotonic function."
      ],
      "metadata": {
        "id": "iXW1Qx79ZpGL"
      }
    },
    {
      "cell_type": "code",
      "execution_count": null,
      "metadata": {
        "id": "ef6ec878",
        "colab": {
          "base_uri": "https://localhost:8080/"
        },
        "outputId": "70036b78-309d-4e37-860b-051f06847623"
      },
      "outputs": [
        {
          "name": "stdout",
          "output_type": "stream",
          "text": [
            "Enter number: 0.5\n"
          ]
        },
        {
          "output_type": "execute_result",
          "data": {
            "text/plain": [
              "0.7071067811865461"
            ]
          },
          "metadata": {},
          "execution_count": 6
        }
      ],
      "source": [
        "# Put your function here.\n",
        "def square_root(x):\n",
        "  if x == 0:\n",
        "    return 0\n",
        "  elif x == 1:\n",
        "    return 1\n",
        "  elif x<0:\n",
        "    print('Value should be positive')\n",
        "    return False\n",
        "  i = 0\n",
        "  j = max(1,x) if x > 1 else max(1,int(x))\n",
        "  while j - i > 1E-14:\n",
        "    m = (i+j)/2\n",
        "    #print (m)\n",
        "    if m*m == x:\n",
        "      return m\n",
        "    elif m*m > x:\n",
        "      j = (i+j)/2\n",
        "    else:\n",
        "      i = (i+j)/2\n",
        "  return m\n",
        "a = float(input(\"Enter number: \"))\n",
        "square_root(a)\n"
      ]
    },
    {
      "cell_type": "markdown",
      "source": [
        "Use the cell below to test your square root function."
      ],
      "metadata": {
        "id": "osloj43LfXSA"
      }
    },
    {
      "cell_type": "code",
      "execution_count": null,
      "metadata": {
        "id": "8a9ac162",
        "colab": {
          "base_uri": "https://localhost:8080/"
        },
        "outputId": "354b96af-e24b-4a62-df97-797a098aee7a"
      },
      "outputs": [
        {
          "output_type": "stream",
          "name": "stdout",
          "text": [
            "Test completed.\n"
          ]
        }
      ],
      "source": [
        "# This cell can be used to test your function.\n",
        "\n",
        "import random\n",
        "import math\n",
        "\n",
        "# Test 100,000 different numbers.\n",
        "for i in range(100_000):\n",
        "  # Flip a coin to decide to test with integer or float.\n",
        "  if random.randint(0, 1) == 0:\n",
        "    # Gen a random int.\n",
        "    x = random.randint(0, 100)\n",
        "  else:\n",
        "    # Otherwise, generate a floating point number.\n",
        "    x = random.uniform(0, 100)\n",
        "  # Compute deviation from built-in function.\n",
        "  error = abs(math.sqrt(x) - square_root(x))\n",
        "  if error > 1E-14:\n",
        "    print(x)\n",
        "    print(f\"Error: {math.sqrt(x)} - {square_root(x)} = {error}\")\n",
        "print(\"Test completed.\")"
      ]
    },
    {
      "cell_type": "markdown",
      "source": [
        "# Least $2^i \\ge N$"
      ],
      "metadata": {
        "id": "JvE7MdPlxjdW"
      }
    },
    {
      "cell_type": "markdown",
      "source": [
        "Write a function named `round2()` that returns the smallest power of 2 that is greater than or equal to the argument.\n",
        "You must use a while loop.\n",
        "Do not use any math functions other than multiplication and comparison.\n",
        "You must return an integer.\n",
        "Do not return a float.\n",
        "Include some code to test your function."
      ],
      "metadata": {
        "id": "RTmNkQu9Ypbg"
      }
    },
    {
      "cell_type": "code",
      "source": [
        "def round2(N):\n",
        "  i = 1\n",
        "  n=0\n",
        "  while i < N:\n",
        "    i = i*2\n",
        "    n=n+1\n",
        "  return n\n",
        "a = float(input(\"Enter number: \"))\n",
        "print(\"The smallest power of 2 that is greater than or equal to the argument is: \\n\")\n",
        "print(round2(a))\n",
        "print(\"And the value is: \\n\")\n",
        "print(2**round2(a))\n"
      ],
      "metadata": {
        "id": "DG4SZfveFtHw",
        "colab": {
          "base_uri": "https://localhost:8080/"
        },
        "outputId": "22644e6c-1707-4276-a7cc-a1a040263a4a"
      },
      "execution_count": null,
      "outputs": [
        {
          "output_type": "stream",
          "name": "stdout",
          "text": [
            "Enter number: 4\n",
            "The smallest power of 2 that is greater than or equal to the argument is: \n",
            "\n",
            "2\n",
            "And the value is: \n",
            "\n",
            "4\n"
          ]
        }
      ]
    },
    {
      "cell_type": "code",
      "source": [
        "#test\n",
        "def round2_test(a,b):\n",
        "  c = round2(a)\n",
        "  print(c)\n",
        "  if 2**c == 2**b:\n",
        "    print('Test Successful')\n",
        "  else:\n",
        "    print('Test unsuccessful')\n",
        "a = float(input(\"Enter number: \"))\n",
        "b = int(input(\"The smallest power of 2 that is greater than or equal to the number entered: \"))\n",
        "round2_test(a,b)\n",
        "\n",
        "\n"
      ],
      "metadata": {
        "id": "iMcNRWvg-YQx",
        "colab": {
          "base_uri": "https://localhost:8080/"
        },
        "outputId": "a8f38ec0-2d1d-4d37-db69-e1a04fd973fb"
      },
      "execution_count": null,
      "outputs": [
        {
          "output_type": "stream",
          "name": "stdout",
          "text": [
            "Enter number: 4\n",
            "The smallest power of 2 that is greater than or equal to the number entered: 2\n",
            "2\n",
            "Test Successful\n"
          ]
        }
      ]
    },
    {
      "cell_type": "markdown",
      "source": [
        "# Enumerate"
      ],
      "metadata": {
        "id": "BWxD-v3PDCEN"
      }
    },
    {
      "cell_type": "markdown",
      "source": [
        "Very often we wish to know the position (also called \"index\") of an element in a list as we iterate through the list.\n",
        "Write a function named `letter_index()` that will accept a letter from A-Z, lowercase or uppercase,\n",
        "and return its index.\n",
        "Use the `ord()` and `chr()` function to create a list of all the letters:\n",
        "first the lower case ones, followed by the upper case letters.\n",
        "Then use the `enumerate()` function to add the index of the letter as you iterate\n",
        "through the list, searching for the passed-in letter."
      ],
      "metadata": {
        "id": "Z7atXRmjAc8O"
      }
    },
    {
      "cell_type": "code",
      "source": [
        "# Put your solution here.\n",
        "\n",
        "def letter_index(a):\n",
        "  l = []\n",
        "  for i in range(ord('a'), ord('z')+1):\n",
        "    l.append(chr(i))\n",
        "  for i in range(ord('A'), ord('Z')+1):\n",
        "    l.append(chr(i))\n",
        "  print(l)\n",
        "  for i,c in enumerate(l):\n",
        "    if c == a:\n",
        "      return i\n",
        "  print('Not a valid alphabet')\n",
        "  return -1\n",
        "a = input('Enter a letter: ')\n",
        "letter_index(a)\n",
        "\n"
      ],
      "metadata": {
        "id": "F21kImqKwYB0",
        "colab": {
          "base_uri": "https://localhost:8080/"
        },
        "outputId": "743d8a3c-7d56-4966-aeec-c611c77f5e62"
      },
      "execution_count": null,
      "outputs": [
        {
          "output_type": "stream",
          "name": "stdout",
          "text": [
            "Enter a letter: r\n",
            "['a', 'b', 'c', 'd', 'e', 'f', 'g', 'h', 'i', 'j', 'k', 'l', 'm', 'n', 'o', 'p', 'q', 'r', 's', 't', 'u', 'v', 'w', 'x', 'y', 'z', 'A', 'B', 'C', 'D', 'E', 'F', 'G', 'H', 'I', 'J', 'K', 'L', 'M', 'N', 'O', 'P', 'Q', 'R', 'S', 'T', 'U', 'V', 'W', 'X', 'Y', 'Z']\n"
          ]
        },
        {
          "output_type": "execute_result",
          "data": {
            "text/plain": [
              "17"
            ]
          },
          "metadata": {},
          "execution_count": 21
        }
      ]
    },
    {
      "cell_type": "markdown",
      "source": [
        "# Zip"
      ],
      "metadata": {
        "id": "M2OCaIlG3j55"
      }
    },
    {
      "cell_type": "markdown",
      "source": [
        "Write a function named `square_roots(n)` that uses `zip()` to return an iterator consisting of tuples with the first element of the tuple an integer, and the second element the square root of the number."
      ],
      "metadata": {
        "id": "Oz6QU9n124kt"
      }
    },
    {
      "cell_type": "code",
      "source": [
        "# Put your solution here.\n",
        "import math\n",
        "def square_roots(n):\n",
        "  s = []\n",
        "  for i in n:\n",
        "    s.append(math.sqrt(i))\n",
        "  print(zip(n,s))\n",
        "  return set(zip(n,s))\n",
        "n = []\n",
        "v = int(input(\"Enter length of list: \"))\n",
        "for i in range(0,v):\n",
        "  d= float(input(\"Enter the \"+str(i+1)+\" number: \"))\n",
        "  n.append(d)\n",
        "square_roots(n)\n"
      ],
      "metadata": {
        "id": "7uxcVMh_w1to",
        "colab": {
          "base_uri": "https://localhost:8080/"
        },
        "outputId": "56011825-6661-4116-86cc-5397c501861a"
      },
      "execution_count": null,
      "outputs": [
        {
          "output_type": "stream",
          "name": "stdout",
          "text": [
            "Enter length of list: 4\n",
            "Enter the 1 number: 3.5\n",
            "Enter the 2 number: 9\n",
            "Enter the 3 number: 16\n",
            "Enter the 4 number: 4.6\n",
            "<zip object at 0x79669a835ac0>\n"
          ]
        },
        {
          "output_type": "execute_result",
          "data": {
            "text/plain": [
              "{(3.5, 1.8708286933869707), (4.6, 2.1447610589527217), (9.0, 3.0), (16.0, 4.0)}"
            ]
          },
          "metadata": {},
          "execution_count": 20
        }
      ]
    },
    {
      "cell_type": "markdown",
      "source": [
        "# Map"
      ],
      "metadata": {
        "id": "DNaFrEEVqxbT"
      }
    },
    {
      "cell_type": "markdown",
      "source": [
        "Create a list containing the following words:\n",
        "\n",
        "    hello, goodbye, car, dog, rabbit, spaghetti, right, wrong\n",
        "\n",
        "Then, using `map()`,\n",
        "create a list that will replace each word with its length."
      ],
      "metadata": {
        "id": "FlBNthe38bai"
      }
    },
    {
      "cell_type": "code",
      "source": [
        "# Put your solution here.\n",
        "def length(l):\n",
        "  return len(l)\n",
        "l = ['hello','goodbye','car','dog','rabbit','spaghetti','right','wrong']\n",
        "print(len(l))\n",
        "print(l)\n",
        "#for i in l:\n",
        "b=list(map(length,l))\n",
        "print(b)"
      ],
      "metadata": {
        "id": "QNHmZXgg_2_0",
        "colab": {
          "base_uri": "https://localhost:8080/"
        },
        "outputId": "78f880b0-922b-4358-ee84-b4e3c9c7078c"
      },
      "execution_count": null,
      "outputs": [
        {
          "output_type": "stream",
          "name": "stdout",
          "text": [
            "8\n",
            "['hello', 'goodbye', 'car', 'dog', 'rabbit', 'spaghetti', 'right', 'wrong']\n",
            "[5, 7, 3, 3, 6, 9, 5, 5]\n"
          ]
        }
      ]
    },
    {
      "cell_type": "markdown",
      "source": [
        "# Digits Sum to 15"
      ],
      "metadata": {
        "id": "MElAXSiixVQF"
      }
    },
    {
      "cell_type": "markdown",
      "source": [
        "**1.** Write a function named `digits_sum_15_l(n)` which\n",
        "uses a list comprehension to create and return a list of numbers\n",
        "from 0 to `n` for which the digits sum to 15."
      ],
      "metadata": {
        "id": "Djj5IwrBL4Ng"
      }
    },
    {
      "cell_type": "code",
      "source": [
        "# Put your solution here.\n",
        "def digits_sum_15_l(n):\n",
        "  return [i for i in range(n + 1) if sum(int(b) for b in str(i)) == 15]\n",
        "n = int(input(\"Enter the number: \"))\n",
        "p = digits_sum_15_l(n)\n",
        "p"
      ],
      "metadata": {
        "id": "t66uBlyftvdH",
        "colab": {
          "base_uri": "https://localhost:8080/"
        },
        "outputId": "ada10da1-c791-43d8-f6b8-acf047163c7d"
      },
      "execution_count": null,
      "outputs": [
        {
          "name": "stdout",
          "output_type": "stream",
          "text": [
            "Enter the number: 100\n"
          ]
        },
        {
          "output_type": "execute_result",
          "data": {
            "text/plain": [
              "[69, 78, 87, 96]"
            ]
          },
          "metadata": {},
          "execution_count": 63
        }
      ]
    },
    {
      "cell_type": "markdown",
      "source": [
        "**2.** Write a function named `nth_sum_15(n)` which will return the `nth` integer where the digits sum to 15.\n",
        "You must use `enumerate()` to do this."
      ],
      "metadata": {
        "id": "w-O5ZT3Zug3c"
      }
    },
    {
      "cell_type": "code",
      "source": [
        "# Put your solution here.\n",
        "def nth_sum_15(n):\n",
        "  l = []\n",
        "  cnt = 0\n",
        "  for i in range(1,1000001): #taking reasonable max range without compromising code efficiency\n",
        "    l.append(sum(int(digit) for digit in str(i)))\n",
        "  for j,c in enumerate(l):\n",
        "    if c == 15:\n",
        "      cnt = cnt + 1\n",
        "      if cnt == n:\n",
        "        return j+1\n",
        "n = int(input(\"Enter the number: \"))\n",
        "result = nth_sum_15(n)\n",
        "print(f\"The {n}th integer with digits summing to 15 is {result}\")\n",
        "\n",
        "\n"
      ],
      "metadata": {
        "id": "xKfY_soQvAdQ",
        "colab": {
          "base_uri": "https://localhost:8080/"
        },
        "outputId": "e445609d-70de-4c49-8ccd-8d9d0cd5534d"
      },
      "execution_count": null,
      "outputs": [
        {
          "output_type": "stream",
          "name": "stdout",
          "text": [
            "Enter the number: 7\n",
            "The 7th integer with digits summing to 15 is 177\n"
          ]
        }
      ]
    },
    {
      "cell_type": "markdown",
      "source": [
        "# Cartesian Product"
      ],
      "metadata": {
        "id": "cH09uuHNwvi8"
      }
    },
    {
      "cell_type": "markdown",
      "source": [
        "The Cartesian product of two sets $X$ and $Y$ is the set of all ordered pairs containing one element from $X$ and one element from $Y$.\n",
        "A common example is the real number plane,\n",
        "written as the $\\mathbb{R}\\times\\mathbb{R}$, or $\\mathbb{R}^2$.\n",
        "Treating lists as sets, write two functions `cart_prod_fl()` and\n",
        "`cart_prod_lc()` that returns a list containing the Cartesian product of its two arguments.\n",
        "The `cart_prod_fl()` function should use `for`-loops and the `cart_prod_lc()` function should use a list comprehension."
      ],
      "metadata": {
        "id": "E5quSVqR4yJm"
      }
    },
    {
      "cell_type": "code",
      "source": [
        "# Put your functions here.\n",
        "def cart_prod_fl(a,b):\n",
        "  c = []\n",
        "  for i in a:\n",
        "    for j in b:\n",
        "      c.append(i+\",\"+j)\n",
        "  return c\n",
        "def cart_prod_lc(a,b):\n",
        "  return [(i+\",\"+j) for i in a for j in b]\n",
        "a = []\n",
        "n = int(input(\"Enter number of values for first list: \"))\n",
        "for i in range(0, n):\n",
        "  s = input(\"Enter the \"+ str(i+1) +\"th value: \")\n",
        "  a.append(s)\n",
        "b = []\n",
        "m = int(input(\"Enter number of values for second list: \"))\n",
        "for i in range(0, m):\n",
        "  r = input(\"Enter the \"+ str(i+1) +\"th value: \")\n",
        "  b.append(r)\n",
        "print(\"Cartesian product is \\n\" + str(cart_prod_fl(a,b)))\n",
        "print(\"Cartesian product is \\n\" + str(cart_prod_lc(a,b)))\n"
      ],
      "metadata": {
        "id": "s86dBwwsB1Yn",
        "colab": {
          "base_uri": "https://localhost:8080/"
        },
        "outputId": "1d5c3beb-1e73-4664-8926-e49f087e95fc"
      },
      "execution_count": null,
      "outputs": [
        {
          "output_type": "stream",
          "name": "stdout",
          "text": [
            "Enter number of values for first list: 2\n",
            "Enter the 1th value: a\n",
            "Enter the 2th value: b\n",
            "Enter number of values for second list: 3\n",
            "Enter the 1th value: 1\n",
            "Enter the 2th value: 2\n",
            "Enter the 3th value: 3\n",
            "Cartesian product is \n",
            "['a,1', 'a,2', 'a,3', 'b,1', 'b,2', 'b,3']\n",
            "Cartesian product is \n",
            "['a,1', 'a,2', 'a,3', 'b,1', 'b,2', 'b,3']\n"
          ]
        }
      ]
    },
    {
      "cell_type": "markdown",
      "source": [
        "# Set Operations"
      ],
      "metadata": {
        "id": "-GHiew_fxb9P"
      }
    },
    {
      "cell_type": "markdown",
      "metadata": {
        "id": "9d47d16b"
      },
      "source": [
        "Write three functions named `intersect(l1, l2)`, `union(l1, l2)`, and `sym_diff(l1, l2)` that will find the intersection, union, and symmetric difference of two lists and return it as a list.\n",
        "(The symmetric difference of two sets is the set consisting of elements that are in one of the sets but not both of the sets.) Use the **`in`** operator.\n",
        "Because this problem is intended to give you practice writing\n",
        "more complex loops,\n",
        "do not use the Python `set` type or any NumPy functions.\n",
        "You must use only list operations and loops.\n",
        "You may assume that each of the lists are proper sets,\n",
        "in the sense that they contain no duplicates."
      ]
    },
    {
      "cell_type": "code",
      "execution_count": null,
      "metadata": {
        "id": "caa0de68",
        "colab": {
          "base_uri": "https://localhost:8080/"
        },
        "outputId": "eb82f1ff-61d8-4f1c-a307-7ad56fdcc210"
      },
      "outputs": [
        {
          "output_type": "stream",
          "name": "stdout",
          "text": [
            "Enter number of values for first list: 3\n",
            "Enter the 1th value: 3\n",
            "Enter the 2th value: 4\n",
            "Enter the 3th value: 5\n",
            "Enter number of values for second list: 3\n",
            "Enter the 1th value: 3\n",
            "Enter the 2th value: 5\n",
            "Enter the 3th value: 7\n",
            "['3', '5']\n",
            "['3', '4', '5', '7']\n",
            "['4', '7']\n"
          ]
        }
      ],
      "source": [
        "# Put your functions here.\n",
        "\n",
        "def intersect(l1, l2):\n",
        "  p = []\n",
        "  for i in l1:\n",
        "    for j in l2:\n",
        "      if i == j:\n",
        "        p.append(i)\n",
        "  return p\n",
        "def union(l1, l2):\n",
        "  r = list(l1)\n",
        "  for i in l2:\n",
        "    if i not in l1:\n",
        "      r.append(i)\n",
        "  return r\n",
        "def sym_diff(l1, l2):\n",
        "  s = []\n",
        "  for i in l1:\n",
        "    if i not in l2:\n",
        "      s.append(i)\n",
        "  for j in l2:\n",
        "    if j not in l1:\n",
        "      s.append(j)\n",
        "  return s\n",
        "a = []\n",
        "n = int(input(\"Enter number of values for first list: \"))\n",
        "for i in range(0, n):\n",
        "  s = input(\"Enter the \"+ str(i+1) +\"th value: \")\n",
        "  a.append(s)\n",
        "b = []\n",
        "m = int(input(\"Enter number of values for second list: \"))\n",
        "for i in range(0, m):\n",
        "  r = input(\"Enter the \"+ str(i+1) +\"th value: \")\n",
        "  b.append(r)\n",
        "\n",
        "print(intersect(a,b))\n",
        "\n",
        "print(union(a,b))\n",
        "\n",
        "print(sym_diff(a,b))"
      ]
    },
    {
      "cell_type": "markdown",
      "source": [
        "# English to French"
      ],
      "metadata": {
        "id": "aQFTUCS1x2_u"
      }
    },
    {
      "cell_type": "markdown",
      "source": [
        "Make an English-to-French dictionary called `e2f`, using the Python `dict` data structure, and print it.\n",
        "Here are your words:\n",
        "'dog' is 'chien',\n",
        "'cat' is 'chat',\n",
        "and 'walrus' is 'morse'.\n",
        "Using your three-word dictionary `e2f`,\n",
        "print the French word for 'walrus'.\n",
        "Now create a French-to-English dictionary called\n",
        "`f2e` directly from `e2f`.\n",
        "Use the `.items()` method, do not re-enter the words.\n",
        "Print the English equivalent of the French word 'chien'.\n",
        "Print the set of English words from `e2f`."
      ],
      "metadata": {
        "id": "RuN4_hYoLizh"
      }
    },
    {
      "cell_type": "code",
      "source": [
        "e2f = {'dog': 'chien','cat':'chat', 'walrus':'morse'}\n",
        "print(e2f)\n",
        "e2f['walrus']\n",
        "for value, key in e2f.items():\n",
        "  f2e[key] = value\n",
        "print(f2e)\n",
        "print(f2e['chien'])\n",
        "\n",
        "for key,value in e2f.items():\n",
        "  print(key)\n"
      ],
      "metadata": {
        "colab": {
          "base_uri": "https://localhost:8080/"
        },
        "id": "j6qbBPlsvSTi",
        "outputId": "24495747-6c58-4d09-ab93-8d8b34c1bcd5"
      },
      "execution_count": null,
      "outputs": [
        {
          "output_type": "stream",
          "name": "stdout",
          "text": [
            "{'dog': 'chien', 'cat': 'chat', 'walrus': 'morse'}\n",
            "{'morse': 'walrus', 'chien': 'dog', 'chat': 'cat'}\n",
            "dog\n",
            "dog\n",
            "cat\n",
            "walrus\n"
          ]
        }
      ]
    },
    {
      "cell_type": "markdown",
      "source": [
        "# Multilevel Life"
      ],
      "metadata": {
        "id": "uMXTyjr6x6T0"
      }
    },
    {
      "cell_type": "markdown",
      "source": [
        "Make a multilevel dictionary called `life`.\n",
        "Use these strings for the topmost keys:\n",
        "'animals', 'plants', and 'other'.\n",
        "Make the 'animals' key refer to another dictionary\n",
        "with the keys 'cats', 'octopi', and 'emus'.\n",
        "Make the 'cats' key refer to a list of strings with the values 'Henri', 'Grumpy', and 'Lucy'.\n",
        "Make all the other keys refer to empty dictionaries.\n",
        "Print the top-level keys of `life`.\n",
        "Print the keys for `life['animals']`.\n",
        "Print the values for `life['animals']['cats']`."
      ],
      "metadata": {
        "id": "Y51Rl1h4ZAtR"
      }
    },
    {
      "cell_type": "code",
      "source": [
        "life = {'animals':{'cats': ['Henri','Grumpy','Lucy'],'octopi': {},'emus': {}}, 'plants': {}, 'other' : {}}\n",
        "print(life)\n",
        "print(' ')\n",
        "for key,value in life.items():\n",
        "  print(key)\n",
        "print(' ')\n",
        "for key,value in life['animals'].items():\n",
        "  print(key)\n",
        "print(' ')\n",
        "print(life['animals']['cats'])"
      ],
      "metadata": {
        "colab": {
          "base_uri": "https://localhost:8080/"
        },
        "id": "w79SzI0p15AM",
        "outputId": "7d84d958-2693-46e1-dc3a-73d1d6813319"
      },
      "execution_count": null,
      "outputs": [
        {
          "output_type": "stream",
          "name": "stdout",
          "text": [
            "{'animals': {'cats': ['Henri', 'Grumpy', 'Lucy'], 'octopi': {}, 'emus': {}}, 'plants': {}, 'other': {}}\n",
            " \n",
            "animals\n",
            "plants\n",
            "other\n",
            " \n",
            "cats\n",
            "octopi\n",
            "emus\n",
            " \n",
            "['Henri', 'Grumpy', 'Lucy']\n"
          ]
        }
      ]
    },
    {
      "cell_type": "markdown",
      "source": [
        "# Variance"
      ],
      "metadata": {
        "id": "j9q2FrK8w6uK"
      }
    },
    {
      "cell_type": "markdown",
      "source": [
        "Write a variadic function named `variance(...)` that computes the variance of a sequence of numbers.\n",
        "Assume that the sequence is the entire population,\n",
        "i.e., compute population variance not sample variance.\n",
        "The purpose of this exercise is to gain experience with coding fundamentals,\n",
        "so do not use NumPy or other packages.\n",
        "\n",
        "Example calls to your function are:\n",
        "\n",
        "    variance(1, 2, 3, 4)\n",
        "    variance(1)\n",
        "    variance(6, 5, 5, 4, 6)\n",
        "\n",
        "etc."
      ],
      "metadata": {
        "id": "LWB3GnH1EwJu"
      }
    },
    {
      "cell_type": "code",
      "source": [
        "# Put your function here.\n",
        "def variance(a):\n",
        "  if len(a) < 2:\n",
        "    print(\"Should have atleast two numbers\")\n",
        "    return 0\n",
        "  else:\n",
        "    mean = sum(a)/len(a)\n",
        "    SSE = 0\n",
        "    for i in a:\n",
        "      SSE = SSE + (i-mean)**2\n",
        "    var = SSE/len(a)\n",
        "    return var\n",
        "\n",
        "a = []\n",
        "n = int(input(\"Enter number of values for the numbers list: \"))\n",
        "for i in range(0, n):\n",
        "  s = float(input(\"Enter the \"+ str(i+1) +\"th value: \"))\n",
        "  a.append(s)\n",
        "print(variance(a))"
      ],
      "metadata": {
        "id": "H0wPFvmDEzGC",
        "colab": {
          "base_uri": "https://localhost:8080/"
        },
        "outputId": "d28dba8e-9f13-429d-97e5-d16a7e4669dd"
      },
      "execution_count": null,
      "outputs": [
        {
          "output_type": "stream",
          "name": "stdout",
          "text": [
            "Enter number of values for the numbers list: 5\n",
            "Enter the 1th value: 345\n",
            "Enter the 2th value: 23.56\n",
            "Enter the 3th value: 89.56\n",
            "Enter the 4th value: 250.67\n",
            "Enter the 5th value: 101\n",
            "13897.109456\n"
          ]
        }
      ]
    },
    {
      "cell_type": "markdown",
      "source": [
        "# Multiply Matrices From File"
      ],
      "metadata": {
        "id": "JIMWU0oJxIYO"
      }
    },
    {
      "cell_type": "markdown",
      "source": [
        "Write a function named `read_and_multiply(fn)` that will read in two matrices from a file named `fn`,\n",
        "and print out the product.\n",
        "The first line of the file will consist of two integers giving the shape of the first matrix.\n",
        "The first integer will be the number of rows.\n",
        "The second integer will be the number of columns.\n",
        "Each row of the matrix will then follow as a separate line.\n",
        "Columns will be separated by white space.\n",
        "Following the first matrix will be another line consisting of two integers, separated by white space.\n",
        "This line will give the shape of the second matrix.\n",
        "Following this line will be the second matrix.\n",
        "Here is an example input file:\n",
        "    \n",
        "    3 2\n",
        "    1.1 1.2\n",
        "    2.1 2.2\n",
        "    3.1 3.2\n",
        "    2 2\n",
        "    22.1 22.2\n",
        "    33.1 33.2\n",
        "\n",
        "You will probably find at least some of the following to be useful:\n",
        "`.split()`, `float()`, and `.rstrip()`.\n",
        "\n",
        "After doing the matrix multiplication,\n",
        "print out the resulting matrix.\n",
        "The format should be the same as for the input,\n",
        "except that you will print only one matrix of course."
      ],
      "metadata": {
        "id": "7h6oa_f_4-D4"
      }
    },
    {
      "cell_type": "code",
      "source": [
        "def read_and_multiply(fn):\n",
        "    m1 = []\n",
        "    m2 = []\n",
        "    with open(fn, 'r') as file:\n",
        "        r1, c1 = map(int, file.readline().split())\n",
        "        for _ in range(r1):\n",
        "            row = list(map(float, file.readline().split()))\n",
        "            m1.append(row)\n",
        "        r2, c2 = map(int, file.readline().split())\n",
        "        for _ in range(r2):\n",
        "            row = list(map(float, file.readline().split()))\n",
        "            m2.append(row)\n",
        "    if c1 != r2:\n",
        "        print(\"Matrix multiplication not possible.\")\n",
        "        return 0\n",
        "    m3 = []\n",
        "    for i in range(r1):\n",
        "        row = []\n",
        "        for j in range(c2):\n",
        "            cell = 0\n",
        "            for k in range(c1):\n",
        "                cell += m1[i][k] * m2[k][j]\n",
        "            row.append(cell)\n",
        "        m3.append(row)\n",
        "    print(f\"{r1} {c2}\")\n",
        "    for row in m3:\n",
        "        print(\" \".join(map(str, row)))\n",
        "fn = \"drive/My Drive/matrix_multiply.txt\"\n",
        "read_and_multiply(fn)\n"
      ],
      "metadata": {
        "colab": {
          "base_uri": "https://localhost:8080/"
        },
        "id": "HAJ3T1Z5g8Z-",
        "outputId": "7631a557-e411-44a4-c06c-4b67afc87edc"
      },
      "execution_count": null,
      "outputs": [
        {
          "output_type": "stream",
          "name": "stdout",
          "text": [
            "3 2\n",
            "64.03 64.26\n",
            "119.23000000000002 119.66\n",
            "174.43 175.06\n"
          ]
        }
      ]
    },
    {
      "cell_type": "markdown",
      "source": [
        "# Word Statistics"
      ],
      "metadata": {
        "id": "lXQG6HrFAcPz"
      }
    },
    {
      "cell_type": "markdown",
      "source": [
        "**1.** Write a function named `word_stats(url)` that\n",
        "will retrieve the file of words at the given URL,\n",
        "with one word per line,\n",
        "and return an object of class `Statistics`.\n",
        "The class should have:\n",
        "\n",
        "1. Attributes named `.min` and `.max`,\n",
        "giving the minimum and maximum\n",
        "word length in the list, respectively.\n",
        "2. Attributes named `.mean`, `.median`, `.mode`,\n",
        "and `.std` (standard deviation) giving the respective statistic.\n",
        "3. An attribute named `.freqs` giving the relative frequency distribution of the word lengths,\n",
        "as a list.\n",
        "The frequency distribution should start at\n",
        "the length of the shortest word.\n",
        "In other words,\n",
        "the first element in the frequency distribution should\n",
        "be the relative frequency of words of length `.min`.\n"
      ],
      "metadata": {
        "id": "ph9Z2GUPK2Oe"
      }
    },
    {
      "cell_type": "code",
      "source": [
        "# Put your function here.\n",
        "\n",
        "import statistics\n",
        "import requests\n",
        "class Statistics:\n",
        "    def __init__(s, words):\n",
        "        s.words = words\n",
        "        s.min = min(words,default = 0)\n",
        "        s.max = max(words,default = 0)\n",
        "        s.mean = statistics.mean(words)\n",
        "        s.median = statistics.median(words)\n",
        "        s.mode = statistics.mode(words)\n",
        "        s.std = statistics.stdev(words)\n",
        "        s.freqs = s.freq_dist()\n",
        "    def freq_dist(s):\n",
        "        dict = {}\n",
        "        for word in s.words:\n",
        "            word_lengths = len(str(word))\n",
        "            if word_lengths in dict:\n",
        "                dict[word_lengths] += 1\n",
        "            else:\n",
        "                dict[word_lengths] = 1\n",
        "        total_words = len(s.words)\n",
        "        frequency_distribution = [dict.get(length, 0) / total_words for length in range(s.min, s.max + 1)]\n",
        "        return frequency_distribution\n",
        "def word_stats(url):\n",
        "    response = requests.get(url)\n",
        "    if response.status_code != 200:\n",
        "        raise ValueError(\"Failed to fetch data\")\n",
        "    words = response.text.strip().split('\\n')\n",
        "    word_lengths = [len(word) for word in words]\n",
        "    return Statistics(word_lengths)\n",
        "url = \"https://raw.githubusercontent.com/first20hours/google-10000-english/master/google-10000-english.txt\"\n",
        "statistic = word_stats(url)\n",
        "print(\"Smallest Word Length:\", statistic.min)\n",
        "print(\"Largest Word Length:\", statistic.max)\n",
        "print(\"Mean:\", statistic.mean)\n",
        "print(\"Median:\", statistic.median)\n",
        "print(\"Mode:\", statistic.mode)\n",
        "print(\"Standard Dev:\", statistic.std)\n",
        "print(\"Frequency Distribution:\", statistic.freqs)\n"
      ],
      "metadata": {
        "id": "q4RO1DczcOWl",
        "colab": {
          "base_uri": "https://localhost:8080/"
        },
        "outputId": "504ca761-3876-4b9d-b227-e377232d5e75"
      },
      "execution_count": null,
      "outputs": [
        {
          "output_type": "stream",
          "name": "stdout",
          "text": [
            "Smallest Word Length: 1\n",
            "Largest Word Length: 18\n",
            "Mean: 6.5888\n",
            "Median: 6.0\n",
            "Mode: 6\n",
            "Standard Dev: 2.552443154431781\n",
            "Frequency Distribution: [0.8651, 0.1349, 0.0, 0.0, 0.0, 0.0, 0.0, 0.0, 0.0, 0.0, 0.0, 0.0, 0.0, 0.0, 0.0, 0.0, 0.0, 0.0]\n"
          ]
        }
      ]
    },
    {
      "cell_type": "markdown",
      "source": [
        "**2.**\n",
        "Write a function named `print_hist(range, freqs)`\n",
        "that will take a list of frequencies,\n",
        "and print out the histogram\n",
        "using a text representation.\n",
        "The tuple `range` will give the range\n",
        "of the $x$-axis.\n",
        "In other words,\n",
        "the first element in the list will be the relative\n",
        "frequency of the value `range[0]`.\n",
        "Use '\\*' to indicate height.\n",
        "Use one '\\*' for every .02,\n",
        "so your histogram will be 50 characters tall.\n",
        "The bars should be vertical."
      ],
      "metadata": {
        "id": "Ls3malBRcMSi"
      }
    },
    {
      "cell_type": "code",
      "source": [
        "def print_hist(vr, freqs):  #using vr inplace of range as it is conflicting with system function\n",
        "    bins = len(vr)\n",
        "    bar = 50\n",
        "    max_freq = max(freqs)\n",
        "    nf = []\n",
        "    for f in freqs:\n",
        "      g = int(f * bar / max_freq)\n",
        "      nf.append(g)\n",
        "    for i in range(bar, 0, -1):\n",
        "      line = \"\"\n",
        "      for j in range(bins):\n",
        "        if nf[j] >= i:\n",
        "          line += \"*\"\n",
        "        else:\n",
        "          line += \" \"\n",
        "      print(line)\n",
        "    x_labels = [str(v) for v in vr]\n",
        "    x_axis = \" \".join(x_labels)\n",
        "    print(x_axis)\n",
        "a = []\n",
        "f = []\n",
        "n = int(input(\"Enter number of values for the value list: \"))\n",
        "for i in range(0, n):\n",
        "  s = float(input(\"Enter the \"+ str(i+1) +\"th value: \"))\n",
        "  a.append(s)\n",
        "m = int(input(\"Enter number of values for the frequency list: \"))\n",
        "for i in range(0, m):\n",
        "  r = float(input(\"Enter the \"+ str(i+1) +\"th value: \"))\n",
        "  f.append(r)\n",
        "print_hist(a, f)"
      ],
      "metadata": {
        "colab": {
          "base_uri": "https://localhost:8080/"
        },
        "id": "zI2Tm3w2F-1K",
        "outputId": "3270ec4a-8c59-4aee-c03f-736ae91ee46a"
      },
      "execution_count": null,
      "outputs": [
        {
          "output_type": "stream",
          "name": "stdout",
          "text": [
            "Enter number of values for the value list: 5\n",
            "Enter the 1th value: 0\n",
            "Enter the 2th value: 1\n",
            "Enter the 3th value: 2\n",
            "Enter the 4th value: 3\n",
            "Enter the 5th value: 4\n",
            "Enter number of values for the frequency list: 5\n",
            "Enter the 1th value: 5\n",
            "Enter the 2th value: 15\n",
            "Enter the 3th value: 30\n",
            "Enter the 4th value: 20\n",
            "Enter the 5th value: 10\n",
            "  *  \n",
            "  *  \n",
            "  *  \n",
            "  *  \n",
            "  *  \n",
            "  *  \n",
            "  *  \n",
            "  *  \n",
            "  *  \n",
            "  *  \n",
            "  *  \n",
            "  *  \n",
            "  *  \n",
            "  *  \n",
            "  *  \n",
            "  *  \n",
            "  *  \n",
            "  ** \n",
            "  ** \n",
            "  ** \n",
            "  ** \n",
            "  ** \n",
            "  ** \n",
            "  ** \n",
            "  ** \n",
            " *** \n",
            " *** \n",
            " *** \n",
            " *** \n",
            " *** \n",
            " *** \n",
            " *** \n",
            " *** \n",
            " *** \n",
            " ****\n",
            " ****\n",
            " ****\n",
            " ****\n",
            " ****\n",
            " ****\n",
            " ****\n",
            " ****\n",
            "*****\n",
            "*****\n",
            "*****\n",
            "*****\n",
            "*****\n",
            "*****\n",
            "*****\n",
            "*****\n",
            "0.0 1.0 2.0 3.0 4.0\n"
          ]
        }
      ]
    },
    {
      "cell_type": "markdown",
      "source": [
        "Try your code with this list: [https://raw.githubusercontent.com/first20hours/google-10000-english/master/google-10000-english.txt](https://raw.githubusercontent.com/first20hours/google-10000-english/master/google-10000-english.txt).\n",
        "The following cell shows how to use the `requests` package will retrieve a word list of the top 10,000 most common English words,\n",
        "and print the first 10 of them."
      ],
      "metadata": {
        "id": "XpA7c78ZLlFT"
      }
    },
    {
      "cell_type": "code",
      "source": [
        "import requests\n",
        "with requests.Session() as s:\n",
        "  r = s.get(\"https://raw.githubusercontent.com/first20hours/google-10000-english/master/google-10000-english.txt\", stream=True)\n",
        "  for i, l in enumerate(r.iter_lines()):\n",
        "    if i > 10:\n",
        "      break\n",
        "    dl = l.decode('utf-8')\n",
        "    print(dl)"
      ],
      "metadata": {
        "id": "KNQkYz7FH9Fk"
      },
      "execution_count": null,
      "outputs": []
    },
    {
      "cell_type": "markdown",
      "source": [
        "# Sorting and Classes"
      ],
      "metadata": {
        "id": "uegi7OCaKObo"
      }
    },
    {
      "cell_type": "markdown",
      "source": [
        "Sorting a sequence of numbers or items is a fundamental problem in computer science.\n",
        "It's also something that all of us have done at some point in real life.\n",
        "In this part, we will implement two sorting algorithms.\n",
        "Do not call a library or package function;\n",
        "you must implement the sorting algorithm yourself.\n",
        "Implementations of these can be found on the Internet,\n",
        "but you must write your code yourself.\n",
        "You may read about the algorithms,\n",
        "but do not directly copy and paste existing Python code.\n",
        "This is an exercise;\n",
        "we are not doing it for the sake of sorting.\n",
        "Rather, it's an ideal exercise to learn with,\n",
        "because it's a common, well-understood task."
      ],
      "metadata": {
        "id": "XsZWFOdImHIz"
      }
    },
    {
      "cell_type": "markdown",
      "source": [
        "## Selection and Insertion Sort"
      ],
      "metadata": {
        "id": "66Xouz1EtIFG"
      }
    },
    {
      "cell_type": "markdown",
      "metadata": {
        "id": "Z625Z2IotGs0"
      },
      "source": [
        "**1.** *Selection sort* is a simple sorting algorithm that\n",
        "we might use when sorting a deck of cards.\n",
        "Let $L$ be the unsorted,\n",
        "original list.\n",
        "We will keep a second, sorted \"helper\" list which we'll call $S$.\n",
        "$S$ is initially empty.\n",
        "The algorithm is:\n",
        "\n",
        "1. Find the smallest element $e$ in the current $L$.\n",
        "2. Remove $e$.\n",
        "3. Append $e$ to $S$.\n",
        "4. Repeat until $L$ is empty.\n",
        "5. $S$ is now the sorted list.\n",
        "\n",
        "*Insertion sort* is another simple algorithm\n",
        "that we might use to sort a deck of cards.\n",
        "The algorithm is:\n",
        "\n",
        "1. Remove the next element $e$ from $L$.\n",
        "2. Scan $S$ from the beginning,\n",
        "looking for an insertion point such that the preceding element\n",
        "is less than $e$,\n",
        "and the following element is greater than (or equal to) $e$.\n",
        "3. Insert $e$ at that point.\n",
        "4. Repeat until $L$ is empty.\n",
        "5. $S$ is now the sorted list."
      ]
    },
    {
      "cell_type": "markdown",
      "source": [
        "Implement a function named `slow_sort(l, cmp)` that takes a unsorted list `l` and a comparator function `cmp`,\n",
        "and returns a sorted copy of the list.\n",
        "Do not modify the original list.\n",
        "You may use either of the two algorithms above.\n",
        "\n",
        "The comparator function accepts two elements $a$ and $b$ and will return -1 if $a < b$, 0 if $a = b$, and 1 if $a > b$.\n",
        "Note that the ordering\n",
        "followed by the comparator is abstract.\n",
        "For example, the list could be sorted\n",
        "in descending order simply by using\n",
        "a comparator that flipped the signs.\n",
        "\n",
        "In addition, in a separate cell, time how long it takes to sort a list of random integers chosen from the interval [1, 1,000,000].\n",
        "The length of the list should range from 2000 elements to 20,000 elements, in increments of 2000 elements.\n",
        "Use\n",
        "https://docs.python.org/3/library/time.html#time.perf_counter\n",
        "to time.\n",
        "You may also use the `%time` magic,\n",
        "though it will be less convenient,\n",
        "because you cannot automate it.\n",
        "\n",
        "In one or more cells below, place your `slow_sort()` function,\n",
        "a `less_than()` comparator to sort in ascending order, and a `greater_than()` comparator\n",
        "to sort in descending order.\n",
        "In addition, put your timing test below."
      ],
      "metadata": {
        "id": "LD89O-x-GzIU"
      }
    },
    {
      "cell_type": "code",
      "execution_count": null,
      "metadata": {
        "id": "56bf2dd4",
        "colab": {
          "base_uri": "https://localhost:8080/"
        },
        "outputId": "740ba9b0-d9b6-4ec9-bfd1-0d487a5c9bfa"
      },
      "outputs": [
        {
          "output_type": "stream",
          "name": "stdout",
          "text": [
            "Enter number of values for the list: 5\n",
            "Enter the 1th value: 3\n",
            "Enter the 2th value: 4\n",
            "Enter the 3th value: 2\n",
            "Enter the 4th value: 1\n",
            "Enter the 5th value: 5\n",
            "[5.0, 4.0, 3.0, 2.0, 1.0]\n"
          ]
        }
      ],
      "source": [
        "# Put your sort function here.\n",
        "def slow_sort(l, cmp):\n",
        "  n = len(l)\n",
        "  s = l\n",
        "  for i in range(n):\n",
        "    min = i\n",
        "    for j in range(i + 1, n):\n",
        "      if cmp(s[j], s[min]) == -1:\n",
        "        min = j\n",
        "    t = s[i]\n",
        "    s[i] = s[min]\n",
        "    s[min] = t\n",
        "  return s\n",
        "def less_than(a, b):\n",
        "  if a < b:\n",
        "    return -1\n",
        "  elif a == b:\n",
        "    return 0\n",
        "  else:\n",
        "    return 1\n",
        "def greater_than(a, b):\n",
        "  if a > b:\n",
        "    return -1\n",
        "  elif a == b:\n",
        "    return 0\n",
        "  else:\n",
        "    return 1\n",
        "a = []\n",
        "n = int(input(\"Enter number of values for the list: \"))\n",
        "for i in range(0, n):\n",
        "  s = float(input(\"Enter the \"+ str(i+1) +\"th value: \"))\n",
        "  a.append(s)\n",
        "print(slow_sort(a, greater_than))\n"
      ]
    },
    {
      "cell_type": "code",
      "source": [
        "import random\n",
        "import time\n",
        "l = list(range(2000, 20000, 2000))\n",
        "s = []\n",
        "s1 = []\n",
        "for length in l:\n",
        "    random_list = [random.randint(1, 1000000) for _ in range(length)]\n",
        "    start_time = time.perf_counter()\n",
        "    sorted_list = slow_sort(random_list, less_than)\n",
        "    end_time = time.perf_counter()\n",
        "    sorting_time = end_time - start_time\n",
        "    s.append((length, sorting_time))\n",
        "    s1.append(sorting_time)\n",
        "for length, sorting_time in s:\n",
        "    print(length, sorting_time)\n",
        "\n"
      ],
      "metadata": {
        "id": "m-0tOSLctSF9",
        "colab": {
          "base_uri": "https://localhost:8080/"
        },
        "outputId": "87d4f8b1-4a9e-418a-cf24-64e1b98b5e15"
      },
      "execution_count": null,
      "outputs": [
        {
          "output_type": "stream",
          "name": "stdout",
          "text": [
            "2000 0.40870081200046116\n",
            "4000 3.078307363000931\n",
            "6000 3.6097408019995783\n",
            "8000 6.587266556000031\n",
            "10000 19.32707324200055\n",
            "12000 15.916354936000062\n",
            "14000 22.562249588001578\n",
            "16000 28.26365881499987\n",
            "18000 39.17739868799981\n"
          ]
        }
      ]
    },
    {
      "cell_type": "markdown",
      "source": [
        "## Merge Sort"
      ],
      "metadata": {
        "id": "7Ud2VgQHmHI5"
      }
    },
    {
      "cell_type": "markdown",
      "source": [
        "**2.** Merge sort is another sorting algorithm.\n",
        "The algorithm works as follows.\n",
        "If the list contains only one element,\n",
        "then it is sorted already, by definition.\n",
        "If the list contains more than one element,\n",
        "then it is divided into two,\n",
        "and each half is sorted recursively.\n",
        "Each sorted half list is then merged into a single sorted list.\n",
        "Merge sort uses an algorithm design technique known as \"divide-and-conquer\".\n",
        "\n",
        "Implement a function named `merge_sort(lst, cmp)` that takes a unsorted list `lst` and a comparator function `cmp`,\n",
        "as above, and returns the sorted list.\n",
        "An outline is as follows:\n",
        "\n",
        "    def merge_sort(lst, cmp):\n",
        "        if len(lst) > 1:\n",
        "            # ... Code here to split lst into lst1 and lst2.\n",
        "            lst1 = merge_sort(lst1)\n",
        "            lst2 = merge_sort(lst2)\n",
        "            # ... Code here to merge lst and lst\n",
        "            returned merged_sorted_list\n",
        "        else:\n",
        "            # Only has one element, so already sorted.\n",
        "            return lst\n",
        "\n",
        "Time `merge_sort` as above.\n",
        "Plot your timings for both `merge_sort()` and `slow_sort` on the same graph.\n",
        "The x-axis should be the number of elements in the list,\n",
        "and the y-axis should be the time to sort.\n",
        "You may need to use a logarithmic scale.\n",
        "See\n",
        "[https://matplotlib.org/stable/gallery/lines_bars_and_markers/simple_plot.html#sphx-glr-gallery-lines-bars-and-markers-simple-plot-py](\n",
        "https://matplotlib.org/stable/gallery/lines_bars_and_markers/simple_plot.html#sphx-glr-gallery-lines-bars-and-markers-simple-plot-py) for how to do\n",
        "a simple plot in matplotlib.\n",
        "\n",
        "In the cell(s) below, place your code."
      ],
      "metadata": {
        "id": "b0mbUtdCmHI5"
      }
    },
    {
      "cell_type": "code",
      "execution_count": 29,
      "metadata": {
        "id": "958298ce",
        "colab": {
          "base_uri": "https://localhost:8080/"
        },
        "outputId": "1c37c4b1-f944-4ea3-8d16-9f4bfba21687"
      },
      "outputs": [
        {
          "output_type": "stream",
          "name": "stdout",
          "text": [
            "Enter number of values for the list: 5\n",
            "Enter the 1th value: 4\n",
            "Enter the 2th value: 7\n",
            "Enter the 3th value: 9\n",
            "Enter the 4th value: 1\n",
            "Enter the 5th value: 3\n",
            "[9.0, 7.0, 4.0, 3.0, 1.0]\n"
          ]
        }
      ],
      "source": [
        "# Put your code here.\n",
        "def merge_sort(lst, cmp):\n",
        "  if len(lst) > 1:\n",
        "    mid = len(lst) // 2\n",
        "    lst1 = lst[:mid]\n",
        "    lst2 = lst[mid:]\n",
        "    lst1 = merge_sort(lst1,cmp)\n",
        "    lst2 = merge_sort(lst2,cmp)\n",
        "    merged_sorted_list = []\n",
        "    i = j = 0\n",
        "    while i < len(lst1) and j < len(lst2):\n",
        "      if cmp(lst1[i], lst2[j]) == -1:\n",
        "        merged_sorted_list.append(lst1[i])\n",
        "        i= i + 1\n",
        "      else:\n",
        "        merged_sorted_list.append(lst2[j])\n",
        "        j =j + 1\n",
        "    merged_sorted_list.extend(lst1[i:])\n",
        "    merged_sorted_list.extend(lst2[j:])\n",
        "    return merged_sorted_list\n",
        "  else:\n",
        "    return lst\n",
        "def less_than(a, b):\n",
        "  if a < b:\n",
        "    return -1\n",
        "  elif a == b:\n",
        "    return 0\n",
        "  else:\n",
        "    return 1\n",
        "def greater_than(a, b):\n",
        "  if a > b:\n",
        "    return -1\n",
        "  elif a == b:\n",
        "    return 0\n",
        "  else:\n",
        "    return 1\n",
        "a = []\n",
        "n = int(input(\"Enter number of values for the list: \"))\n",
        "for i in range(0, n):\n",
        "  s = float(input(\"Enter the \"+ str(i+1) +\"th value: \"))\n",
        "  a.append(s)\n",
        "print(merge_sort(a, greater_than))\n",
        "\n",
        "\n",
        "\n",
        "\n"
      ]
    },
    {
      "cell_type": "code",
      "source": [
        "import random\n",
        "import time\n",
        "l = list(range(2000, 20000, 2000))\n",
        "s = []\n",
        "s2 = []\n",
        "for length in l:\n",
        "    random_list = [random.randint(1, 1000000) for _ in range(length)]\n",
        "    start_time = time.perf_counter()\n",
        "    sorted_list = merge_sort(random_list, less_than)\n",
        "    end_time = time.perf_counter()\n",
        "    sorting_time = end_time - start_time\n",
        "    s.append((length, sorting_time))\n",
        "    s2.append(sorting_time)\n",
        "for length, sorting_time in s:\n",
        "    print(length, sorting_time)"
      ],
      "metadata": {
        "colab": {
          "base_uri": "https://localhost:8080/"
        },
        "id": "oPNATJDV3uhu",
        "outputId": "b375ac45-aead-4f4e-a5bd-02174ea94481"
      },
      "execution_count": null,
      "outputs": [
        {
          "output_type": "stream",
          "name": "stdout",
          "text": [
            "2000 0.011517310000272118\n",
            "4000 0.01872224399994593\n",
            "6000 0.03127522899922042\n",
            "8000 0.045443003000400495\n",
            "10000 0.0585656809998909\n",
            "12000 0.0769603909993748\n",
            "14000 0.07962227600000915\n",
            "16000 0.09446082999966166\n",
            "18000 0.11064329700093367\n"
          ]
        }
      ]
    },
    {
      "cell_type": "code",
      "source": [
        "import matplotlib.pyplot as plt\n",
        "ls = [10, 50, 100, 500, 1000, 5000, 10000, 50000, 100000]\n",
        "plt.figure(figsize=(10, 6))\n",
        "plt.plot(ls, s2, label=\"Merge Sort\")\n",
        "plt.plot(ls, s1, label=\"Slow Sort\")\n",
        "plt.yscale(\"log\")\n",
        "plt.xscale(\"log\")\n",
        "plt.xlabel(\"Number of Elements\")\n",
        "plt.ylabel(\"Time taken to Sort (log scale)\")\n",
        "plt.legend()\n",
        "plt.title(\"Comparison of Merge Sort and Slow Sort\")\n",
        "plt.grid(True)\n",
        "plt.show()"
      ],
      "metadata": {
        "colab": {
          "base_uri": "https://localhost:8080/",
          "height": 569
        },
        "id": "zng_cYtADulI",
        "outputId": "4ca6afe4-a1bb-4889-d853-ba03585f4cb7"
      },
      "execution_count": null,
      "outputs": [
        {
          "output_type": "display_data",
          "data": {
            "text/plain": [
              "<Figure size 1000x600 with 1 Axes>"
            ],
            "image/png": "[encoded data removed]"
          },
          "metadata": {}
        }
      ]
    },
    {
      "cell_type": "markdown",
      "source": [
        "**3.**\n",
        "A comparator is an ideal use for a lambda.\n",
        "Use a lambda to \"wrap\" the `less_than` comparator so that the\n",
        "sort will be in descending order.\n",
        "(Hint: How can you change the return value of the `less_than` comparator\n",
        "so that the result will be in descending order?)"
      ],
      "metadata": {
        "id": "MCdEfqCmaKk1"
      }
    },
    {
      "cell_type": "code",
      "source": [
        "less_than_lambda = lambda b, a: less_than(a, b)\n",
        "\n",
        "a = []\n",
        "n = int(input(\"Enter number of values for the list: \"))\n",
        "for i in range(0, n):\n",
        "  s = float(input(\"Enter the \"+ str(i+1) +\"th value: \"))\n",
        "  a.append(s)\n",
        "print(merge_sort(a, less_than_lambda))\n",
        "print(merge_sort(a, less_than))"
      ],
      "metadata": {
        "id": "UIAVWckcaCjf",
        "colab": {
          "base_uri": "https://localhost:8080/"
        },
        "outputId": "c688ded1-0a9c-49e3-9f53-63dd093e1354"
      },
      "execution_count": null,
      "outputs": [
        {
          "output_type": "stream",
          "name": "stdout",
          "text": [
            "Enter number of values for the list: 6\n",
            "Enter the 1th value: 3\n",
            "Enter the 2th value: 4\n",
            "Enter the 3th value: 5\n",
            "Enter the 4th value: 2\n",
            "Enter the 5th value: 6\n",
            "Enter the 6th value: 1\n",
            "[6.0, 5.0, 4.0, 3.0, 2.0, 1.0]\n",
            "[1.0, 2.0, 3.0, 4.0, 5.0, 6.0]\n"
          ]
        }
      ]
    },
    {
      "cell_type": "markdown",
      "source": [
        "## Sorting Objects"
      ],
      "metadata": {
        "id": "UQeaswbiXvzo"
      }
    },
    {
      "cell_type": "markdown",
      "metadata": {
        "id": "66459544"
      },
      "source": [
        "**4.**\n",
        "Next, you will see how your sort function can be used to sort other types of objects, given appropriate comparator functions.\n",
        "In the cell below, create a `Person` class.\n",
        "The class should have two, per-instance data attributes, `id` and `name`, representing the ID and name of a person, respectively.\n",
        "The class should include a instantiation method named `__init__()`,\n",
        "which accepts as arguments the ID and name.\n",
        "\n",
        "To make debugging easier, also include a `__repr__()` method that will return\n",
        "a string to be used for printing."
      ]
    },
    {
      "cell_type": "code",
      "execution_count": 27,
      "metadata": {
        "id": "329052d1",
        "colab": {
          "base_uri": "https://localhost:8080/"
        },
        "outputId": "7a79042a-16d1-44a6-b668-d34ae5f96e72"
      },
      "outputs": [
        {
          "output_type": "stream",
          "name": "stdout",
          "text": [
            "1 Deba\n",
            "2 Ray\n"
          ]
        }
      ],
      "source": [
        "# Put your code here.\n",
        "class Person:\n",
        "  def __init__(self, id , name):\n",
        "    self.id = id\n",
        "    self.name = name\n",
        "  def __repr__(self):\n",
        "    return str(self.id)+\" \"+self.name\n",
        "p1 = Person(1, \"Deba\")\n",
        "p2 = Person(2, \"Ray\")\n",
        "print(p1)\n",
        "print(p2)"
      ]
    },
    {
      "cell_type": "markdown",
      "metadata": {
        "id": "16fbe76e"
      },
      "source": [
        "Now implement a `less_by_id()` function which will compare two `Person` objects by their ID,\n",
        "and a `less_by_name()` function which will compare two `Person` objects by their names."
      ]
    },
    {
      "cell_type": "code",
      "execution_count": 28,
      "metadata": {
        "id": "f4dafc57"
      },
      "outputs": [],
      "source": [
        "# Put your comparison functions here.\n",
        "\n",
        "def less_by_id(p1,p2):\n",
        "  if p1.id < p2.id:\n",
        "    return -1\n",
        "  elif p1.id == p2.id:\n",
        "    return 0\n",
        "  else:\n",
        "    return 1\n",
        "def less_by_name(p1,p2):\n",
        "  if p1.name < p2.name:\n",
        "    return -1\n",
        "  elif p1.name == p2.name:\n",
        "    return 0\n",
        "  else:\n",
        "    return 1\n",
        "\n"
      ]
    },
    {
      "cell_type": "markdown",
      "metadata": {
        "id": "b1c8e133"
      },
      "source": [
        "Test code is below. Do not change."
      ]
    },
    {
      "cell_type": "code",
      "execution_count": 30,
      "metadata": {
        "id": "11fcb004",
        "colab": {
          "base_uri": "https://localhost:8080/"
        },
        "outputId": "bf283374-e971-4e8a-f1ed-7777e2571ad6"
      },
      "outputs": [
        {
          "output_type": "stream",
          "name": "stdout",
          "text": [
            "[3 Joe, 2 Alice, 4 Mike, 1 Jane]\n",
            "3 Joe\n",
            "2 Alice\n",
            "4 Mike\n",
            "1 Jane\n",
            "[1 Jane, 2 Alice, 3 Joe, 4 Mike]\n",
            "[2 Alice, 1 Jane, 3 Joe, 4 Mike]\n"
          ]
        }
      ],
      "source": [
        "l = [Person(3, \"Joe\"), Person(2, \"Alice\"), Person(4, \"Mike\"), Person(1, \"Jane\")]\n",
        "print(l)\n",
        "for e in l:\n",
        "  print(e)\n",
        "\n",
        "print(merge_sort(l, less_by_id))\n",
        "print(merge_sort(l, less_by_name))"
      ]
    },
    {
      "cell_type": "markdown",
      "source": [
        "# Memory Usage of Generators"
      ],
      "metadata": {
        "id": "AfUO0oLErvVi"
      }
    },
    {
      "cell_type": "markdown",
      "source": [
        "Generators are \"lazy\", in the sense that they do not generate the next element in the sequence until needed.\n",
        "This can be demonstrated by profiling the memory usage.\n",
        "\n",
        "First, install the memory profiler by executing the cell below."
      ],
      "metadata": {
        "id": "BZQgqlrDr1Cv"
      }
    },
    {
      "cell_type": "code",
      "source": [
        "%pip install memory_profiler\n",
        "%load_ext memory_profiler\n"
      ],
      "metadata": {
        "id": "O4eIbDn8kdtk",
        "colab": {
          "base_uri": "https://localhost:8080/"
        },
        "outputId": "59e22f08-851f-435c-e905-520297c15aec"
      },
      "execution_count": null,
      "outputs": [
        {
          "output_type": "stream",
          "name": "stdout",
          "text": [
            "Collecting memory_profiler\n",
            "  Downloading memory_profiler-0.61.0-py3-none-any.whl (31 kB)\n",
            "Requirement already satisfied: psutil in /usr/local/lib/python3.10/dist-packages (from memory_profiler) (5.9.5)\n",
            "Installing collected packages: memory_profiler\n",
            "Successfully installed memory_profiler-0.61.0\n"
          ]
        }
      ]
    },
    {
      "cell_type": "markdown",
      "source": [
        "The cell demonstrates how the memory profiler can be used."
      ],
      "metadata": {
        "id": "w9pV7K7w1sRU"
      }
    },
    {
      "cell_type": "code",
      "source": [
        "%memit l = [i for i in range(100000000)]"
      ],
      "metadata": {
        "id": "KgVwwqE21zpT",
        "colab": {
          "base_uri": "https://localhost:8080/"
        },
        "outputId": "a12ea6de-115f-4e1f-9d1d-edb4a9f76ee3"
      },
      "execution_count": null,
      "outputs": [
        {
          "output_type": "stream",
          "name": "stdout",
          "text": [
            "peak memory: 4054.52 MiB, increment: 3825.68 MiB\n"
          ]
        }
      ]
    },
    {
      "cell_type": "markdown",
      "source": [
        "If a large, memory-consuming data structure is no longer needed, its memory can be reclaimed by deleting it with `del`, and forcing the garbage collector to run with `gc.collect()`.\n",
        "Note that the below will not necessarily cause the memory\n",
        "to be returned to the OS,\n",
        "so you may not see a reduction in the RAM usage of the\n",
        "machine as a whole."
      ],
      "metadata": {
        "id": "VRZHl_-X2IcL"
      }
    },
    {
      "cell_type": "code",
      "source": [
        "import gc\n",
        "del l\n",
        "gc.collect()"
      ],
      "metadata": {
        "id": "dM3xZv2X3O5m",
        "colab": {
          "base_uri": "https://localhost:8080/"
        },
        "outputId": "c8ba57b2-dd16-4785-fc38-2ad636e3159c"
      },
      "execution_count": null,
      "outputs": [
        {
          "output_type": "execute_result",
          "data": {
            "text/plain": [
              "0"
            ]
          },
          "metadata": {},
          "execution_count": 52
        }
      ]
    },
    {
      "cell_type": "markdown",
      "source": [
        "Now write two functions,\n",
        "`sum_list()` and `sum_gen()`.\n",
        "In `sum_list()`,\n",
        "create a list containing the integers from 1 to 100,000,\n",
        "and return the sum.\n",
        "In `sum_gen()`,\n",
        "do the same thing, but use a generator.\n",
        "You may use a generator function (using `yield`) or a generator expression."
      ],
      "metadata": {
        "id": "s1unjdYDsMVR"
      }
    },
    {
      "cell_type": "code",
      "source": [
        "# Put your functions here.\n",
        "def sum_list():\n",
        "  l = list(range(1,100001))\n",
        "  return sum(l)\n",
        "\n",
        "\n",
        "def sum_gen():\n",
        "  def num_gen():\n",
        "    for i in range(1,100001):\n",
        "      yield i\n",
        "  return sum(num_gen())\n",
        "\n",
        "print(sum_list())\n",
        "print(sum_gen())\n",
        "\n"
      ],
      "metadata": {
        "id": "a0ka8mUSk_bZ",
        "colab": {
          "base_uri": "https://localhost:8080/"
        },
        "outputId": "c5c74472-72db-4ffe-afc9-adaf1c1a57f9"
      },
      "execution_count": null,
      "outputs": [
        {
          "output_type": "stream",
          "name": "stdout",
          "text": [
            "5000050000\n",
            "5000050000\n"
          ]
        }
      ]
    },
    {
      "cell_type": "markdown",
      "source": [
        "In the cell below, profile the memory usage of your two versions.\n",
        "Also, print out the result to verify that your two versions\n",
        "are doing the same computation."
      ],
      "metadata": {
        "id": "tmHTB8b-ss9h"
      }
    },
    {
      "cell_type": "code",
      "source": [
        "%pip install memory-profiler\n",
        "%load_ext memory_profiler\n",
        "from memory_profiler import profile\n",
        "def sum_list():\n",
        "  l = list(range(1,100001))\n",
        "  return sum(l)\n",
        "def sum_gen():\n",
        "  def num_gen():\n",
        "    for i in range(1,100001):\n",
        "      yield i\n",
        "  return sum(num_gen())\n",
        "\n",
        "%memit print(sum_list())\n",
        "%memit print(sum_gen())"
      ],
      "metadata": {
        "id": "znHYNlu9srtp",
        "colab": {
          "base_uri": "https://localhost:8080/"
        },
        "outputId": "341dc55f-5b0f-4a7d-80b0-26eb3a019610"
      },
      "execution_count": null,
      "outputs": [
        {
          "output_type": "stream",
          "name": "stdout",
          "text": [
            "Requirement already satisfied: memory-profiler in /usr/local/lib/python3.10/dist-packages (0.61.0)\n",
            "Requirement already satisfied: psutil in /usr/local/lib/python3.10/dist-packages (from memory-profiler) (5.9.5)\n",
            "The memory_profiler extension is already loaded. To reload it, use:\n",
            "  %reload_ext memory_profiler\n",
            "5000050000\n",
            "peak memory: 239.84 MiB, increment: 0.00 MiB\n",
            "5000050000\n",
            "peak memory: 239.88 MiB, increment: 0.00 MiB\n"
          ]
        }
      ]
    },
    {
      "cell_type": "code",
      "source": [
        "import os\n",
        "os.getcwd()"
      ],
      "metadata": {
        "colab": {
          "base_uri": "https://localhost:8080/",
          "height": 36
        },
        "id": "ii6-WrMX7CHO",
        "outputId": "4722f0ab-2a4c-4c6f-c443-03a8583aac1f"
      },
      "execution_count": null,
      "outputs": [
        {
          "output_type": "execute_result",
          "data": {
            "text/plain": [
              "'/content'"
            ],
            "application/vnd.google.colaboratory.intrinsic+json": {
              "type": "string"
            }
          },
          "metadata": {},
          "execution_count": 57
        }
      ]
    },
    {
      "cell_type": "markdown",
      "source": [
        "In the cell below, explain the results."
      ],
      "metadata": {
        "id": "m89tg7bBtdsS"
      }
    },
    {
      "cell_type": "markdown",
      "source": [
        "We can see that for both functions the peak memory utilization is approx. 239.8 MiB. So both versions are doing similar computations."
      ],
      "metadata": {
        "id": "QFgck3ZI8R3W"
      }
    },
    {
      "cell_type": "markdown",
      "source": [
        "# Digits Sum to 15 Using Generator"
      ],
      "metadata": {
        "id": "_yiXclvKrK2O"
      }
    },
    {
      "cell_type": "markdown",
      "source": [
        "Write a generator function named `digits_sum_15_g(n)` which\n",
        "uses the `yield` statement to create a generator to iterate through all the numbers from 0 to `n` for which the digits sum to 15."
      ],
      "metadata": {
        "id": "6uyHCvehrJsX"
      }
    },
    {
      "cell_type": "code",
      "source": [
        "# Put your generator here.\n",
        "def digits_sum_15_g(n):\n",
        "  yield[i for i in range(n + 1) if sum(int(b) for b in str(i)) == 15]\n",
        "\n",
        "b = int(input(\"Enter the limit: \"))\n",
        "for n in digits_sum_15_g(b):\n",
        "  print(n)"
      ],
      "metadata": {
        "id": "vTZT5R5Zrpo7",
        "colab": {
          "base_uri": "https://localhost:8080/"
        },
        "outputId": "1c73abd2-a6c1-4f1c-b2d9-714eb82953c5"
      },
      "execution_count": null,
      "outputs": [
        {
          "output_type": "stream",
          "name": "stdout",
          "text": [
            "Enter the limit: 100\n",
            "[69, 78, 87, 96]\n"
          ]
        }
      ]
    },
    {
      "cell_type": "markdown",
      "source": [
        "# Exceptions\n"
      ],
      "metadata": {
        "id": "XOC4zrsItoYm"
      }
    },
    {
      "cell_type": "markdown",
      "source": [
        "The `math.sqrt(x)` function will raise an exception of type `ValueError`\n",
        "if `x` is negative.\n",
        "Write a wrapper around `math.sqrt()` named `nan_sqrt(x)` that will\n",
        "handle the exception and return NaN instead.\n",
        "The special NaN value is available as `math.nan`."
      ],
      "metadata": {
        "id": "TnxOMaVkqf0g"
      }
    },
    {
      "cell_type": "code",
      "source": [
        "# Put your wrapper here.\n",
        "import math\n",
        "def nan_sqrt(x):\n",
        "  if x < 0:\n",
        "    return math.nan\n",
        "  else:\n",
        "    return math.sqrt(x)\n",
        "x = float(input(\"Enter number: \"))\n",
        "print(nan_sqrt(x))\n"
      ],
      "metadata": {
        "id": "s0JVRV3O6NNi",
        "colab": {
          "base_uri": "https://localhost:8080/"
        },
        "outputId": "781f8561-9a88-46ef-b611-60b885d419f9"
      },
      "execution_count": null,
      "outputs": [
        {
          "output_type": "stream",
          "name": "stdout",
          "text": [
            "Enter number: -5\n",
            "nan\n"
          ]
        }
      ]
    },
    {
      "cell_type": "markdown",
      "source": [
        "# Birthday Paradox"
      ],
      "metadata": {
        "id": "JJoWf2z6vmat"
      }
    },
    {
      "cell_type": "markdown",
      "metadata": {
        "id": "6333aa9f"
      },
      "source": [
        "The probability of at least two people in a group of $N$ having the same birthday is surprisingly high.\n",
        "Write a function named `close_bday(n, m)` that accepts an argument `n` giving the number of people in the group,\n",
        "and returns the estimated probability that at least two people in the group having birthdays within `m` days of each other.\n",
        "You must estimate the probability using simulation.\n",
        "Simulate 1000 different groups of `n` people.\n",
        "Check how many of those groups have at least two people with birthdays within `m` days\n",
        "of each other.\n",
        "\n",
        "Compare two different implementations.\n",
        "For your first implementation, use nested for-loops to check all pairs of people.\n",
        "For your second implementation (named `close_bday_fast`), use something faster. (Hint: What if you sort the list of birthdays first?)"
      ]
    },
    {
      "cell_type": "code",
      "source": [
        "import random\n",
        "def close_bday(n, m):\n",
        "  l = 0\n",
        "  for i in range(1000):\n",
        "    days = [random.randint(0, 364) for i in range(n)]\n",
        "    for j in range(n):\n",
        "      for k in range(j+1,n):\n",
        "        if abs(days[j]-days[k]) <= m:\n",
        "          l = l+1\n",
        "          break\n",
        "  return l/1000\n",
        "\n",
        "def close_bday_fast(n, m):\n",
        "  l = 0\n",
        "  for i in range(1000):\n",
        "    days = [random.randint(0, 364) for i in range(n)]\n",
        "    days = merge_sort(days, less_than)\n",
        "    for j in range(n):\n",
        "      for k in range(j+1,n):\n",
        "        if abs(days[j]-days[k]) <= m:\n",
        "          l = l+1\n",
        "          break\n",
        "  return l/1000\n",
        "\n",
        "n = int(input(\"Enter number of people: \"))\n",
        "m = int(input(\"Enter maximum days between birthdays: \"))\n",
        "print(close_bday(n, m))\n",
        "print(close_bday_fast(n, m))\n",
        "\n"
      ],
      "metadata": {
        "id": "w9oJy1WzEU4k",
        "colab": {
          "base_uri": "https://localhost:8080/"
        },
        "outputId": "7c0219c8-2afd-473b-cf59-d4a8955b74d9"
      },
      "execution_count": null,
      "outputs": [
        {
          "output_type": "stream",
          "name": "stdout",
          "text": [
            "Enter number of people: 23\n",
            "Enter maximum days between birthdays: 1\n",
            "1.971\n",
            "1.964\n"
          ]
        }
      ]
    },
    {
      "cell_type": "markdown",
      "source": [
        "# Train Arrivals"
      ],
      "metadata": {
        "id": "EBinQ6mHyhTZ"
      }
    },
    {
      "cell_type": "markdown",
      "source": [
        "Consider 3 trains: the D, N, and Q.\n",
        "The D runs every 30 minutes, the N runs every 60 minutes, and the Q runs every 90 minutes.\n",
        "The start of the schedule for each train line is uniformly distributed.\n",
        "Assuming that you arrive at a random, uniformly distributed time, what is the probability that you will take the D, N, or Q lines?\n",
        "\n",
        "Write a function named `trains(n)` that will estimate these\n",
        "probabilities by simulation, using `n` trials,\n",
        "and return a tuple containing the respective probabilities."
      ],
      "metadata": {
        "id": "vkPbB1dP9dcu"
      }
    },
    {
      "cell_type": "code",
      "source": [
        "import random\n",
        "def trains(n):\n",
        "  d = 0\n",
        "  m = 0\n",
        "  q = 0\n",
        "  for i in range(n):\n",
        "    t = random.uniform(0,91)\n",
        "    if t <= 30:\n",
        "      d = d+1\n",
        "    if t <= 60:\n",
        "      m = m+1\n",
        "    else:\n",
        "      q = q+1\n",
        "  return(d/n,m/n,q/n)\n",
        "n = int(input(\"Enter number of trials: \"))\n",
        "print(trains(n))"
      ],
      "metadata": {
        "colab": {
          "base_uri": "https://localhost:8080/"
        },
        "id": "A2SU-s7j1aFw",
        "outputId": "c1d1f0d4-1758-4bf4-bed1-974a19288638"
      },
      "execution_count": null,
      "outputs": [
        {
          "output_type": "stream",
          "name": "stdout",
          "text": [
            "Enter number of simulation trials: 1000\n",
            "(0.32, 0.645, 0.355)\n"
          ]
        }
      ]
    },
    {
      "cell_type": "markdown",
      "source": [
        "# Afternoon Boy"
      ],
      "metadata": {
        "id": "NC1Xk7E8qKd9"
      }
    },
    {
      "cell_type": "markdown",
      "source": [
        "Alice has two children.\n",
        "You ask her, \"Is at least one of them a boy born in the afternoon, between noon and 5 PM?\"\n",
        "She replies, \"Yes.\"\n",
        "What is the probability that she has two boys?\n",
        "Write a Python function named `afternoon_boy(n)` to simulate `n` trials and compute the probability that she has two boys.\n",
        "There are different ways to interpret this problem.\n",
        "To be specific, in each trial you should simulate generating two children.\n",
        "You should then condition on at least one of the children being a boy born between the specified times.\n",
        "Given that condition, you should then compute the probability that she has two boys.\n",
        "Assume that the times of birth are uniformly distributed around the clock,\n",
        "and that the probability of a boy or girl is equal."
      ],
      "metadata": {
        "id": "qnz1V-2y6-1T"
      }
    },
    {
      "cell_type": "code",
      "source": [
        "import random\n",
        "def afternoon_boy(n):\n",
        "  c = 0\n",
        "  for i in range(n):\n",
        "    g1 = random.choice([\"b\",\"g\"])\n",
        "    tob1 = random.uniform(0,24)\n",
        "    g2 = random.choice([\"b\",\"g\"])\n",
        "    tob2 = random.uniform(0,24)\n",
        "    if (g1 == \"b\" and tob1 >= 12 and tob1 <= 17) or (g2 == \"b\" and tob2 >= 12 and tob2 <= 17):\n",
        "      if g1 == \"b\" and g2 == \"b\":\n",
        "        c = c+1\n",
        "  return c/n\n",
        "\n",
        "n = int(input(\"Enter number of trials: \"))\n",
        "print(afternoon_boy(n))\n",
        "\n"
      ],
      "metadata": {
        "id": "uc3-1ZrV6WJ2",
        "colab": {
          "base_uri": "https://localhost:8080/"
        },
        "outputId": "4b202086-081b-4b8b-b226-a645c0221601"
      },
      "execution_count": null,
      "outputs": [
        {
          "output_type": "stream",
          "name": "stdout",
          "text": [
            "Enter number of trials: 100\n",
            "0.07\n"
          ]
        }
      ]
    },
    {
      "cell_type": "markdown",
      "source": [
        "# NumPy"
      ],
      "metadata": {
        "id": "KS7-j9YCTWrk"
      }
    },
    {
      "cell_type": "markdown",
      "metadata": {
        "id": "1f4b374b"
      },
      "source": [
        "**1.** Create an array of integers. Use `.astype()` to create a new array containing `np.float64` types."
      ]
    },
    {
      "cell_type": "code",
      "source": [
        "import numpy as np\n",
        "\n",
        "a = []\n",
        "n = int(input(\"Enter number of values for the list: \"))\n",
        "for i in range(0, n):\n",
        "  s = int(input(\"Enter the \"+ str(i+1) +\"th value: \"))\n",
        "  a.append(s)\n",
        "\n",
        "c = np.array(a)\n",
        "print(c)\n",
        "print(type(c))\n",
        "print(c.dtype)\n",
        "b = c.astype('float64')\n",
        "print(b)\n",
        "print(type(b))\n",
        "print(b.dtype)"
      ],
      "metadata": {
        "id": "M8byHw6PCpN0",
        "colab": {
          "base_uri": "https://localhost:8080/"
        },
        "outputId": "b28d4eec-88a0-4e04-d5f9-96311b06e4cb"
      },
      "execution_count": null,
      "outputs": [
        {
          "output_type": "stream",
          "name": "stdout",
          "text": [
            "Enter number of values for the list: 5\n",
            "Enter the 1th value: 2\n",
            "Enter the 2th value: 4\n",
            "Enter the 3th value: 6\n",
            "Enter the 4th value: 2\n",
            "Enter the 5th value: 4\n",
            "[2 4 6 2 4]\n",
            "<class 'numpy.ndarray'>\n",
            "int64\n",
            "[2. 4. 6. 2. 4.]\n",
            "<class 'numpy.ndarray'>\n",
            "float64\n"
          ]
        }
      ]
    },
    {
      "cell_type": "markdown",
      "metadata": {
        "id": "24c234eb"
      },
      "source": [
        "**2.** Create a 1-D ndarray with 30 integers in it, starting from 29 and going to 0, in reverse order, using `arange()`.  Reshape to a 5x6 `ndarray`."
      ]
    },
    {
      "cell_type": "code",
      "source": [
        "import numpy as np\n",
        "\n",
        "v = np.arange(29,-1,-1)\n",
        "print(v)\n",
        "\n",
        "v = v.reshape(5,6)\n",
        "print(v)"
      ],
      "metadata": {
        "id": "SsbVBpxWCrfc",
        "colab": {
          "base_uri": "https://localhost:8080/"
        },
        "outputId": "e4e1bfcc-a44f-4c28-e581-67ec8ce3ba9e"
      },
      "execution_count": null,
      "outputs": [
        {
          "output_type": "stream",
          "name": "stdout",
          "text": [
            "[29 28 27 26 25 24 23 22 21 20 19 18 17 16 15 14 13 12 11 10  9  8  7  6\n",
            "  5  4  3  2  1  0]\n",
            "[[29 28 27 26 25 24]\n",
            " [23 22 21 20 19 18]\n",
            " [17 16 15 14 13 12]\n",
            " [11 10  9  8  7  6]\n",
            " [ 5  4  3  2  1  0]]\n"
          ]
        }
      ]
    },
    {
      "cell_type": "markdown",
      "metadata": {
        "id": "ce51e1e1"
      },
      "source": [
        "**3.** Create a 2x3 `ndarray` with 6 zeroes in it, using a method (not a for loop).  Do not set the elements to zero explicitly.  (Hint: There is a method/function named `zeros()`.)"
      ]
    },
    {
      "cell_type": "code",
      "source": [
        "import numpy as np\n",
        "b = np.zeros((2,3))\n",
        "a = np.array(np.zeros((2,3)))\n",
        "print(b)\n",
        "print(a)\n"
      ],
      "metadata": {
        "id": "9ZtT1ZD2CsSN",
        "colab": {
          "base_uri": "https://localhost:8080/"
        },
        "outputId": "963d7b01-832e-4b1a-dc72-eed707d7c7b5"
      },
      "execution_count": null,
      "outputs": [
        {
          "output_type": "stream",
          "name": "stdout",
          "text": [
            "[[0. 0. 0.]\n",
            " [0. 0. 0.]]\n",
            "[[0. 0. 0.]\n",
            " [0. 0. 0.]]\n"
          ]
        }
      ]
    },
    {
      "cell_type": "markdown",
      "metadata": {
        "id": "de9200c6"
      },
      "source": [
        "**4.** Create an 5x6 array with every element set to 11, using the `.full_like()` method."
      ]
    },
    {
      "cell_type": "code",
      "source": [
        "import numpy as np\n",
        "v = np.full_like(np.empty((5,6)),11)\n",
        "v"
      ],
      "metadata": {
        "id": "59bTokrbCtHz",
        "colab": {
          "base_uri": "https://localhost:8080/"
        },
        "outputId": "04f84428-c49c-4ef3-e3c7-a0a8b1982fa4"
      },
      "execution_count": null,
      "outputs": [
        {
          "output_type": "execute_result",
          "data": {
            "text/plain": [
              "array([[11., 11., 11., 11., 11., 11.],\n",
              "       [11., 11., 11., 11., 11., 11.],\n",
              "       [11., 11., 11., 11., 11., 11.],\n",
              "       [11., 11., 11., 11., 11., 11.],\n",
              "       [11., 11., 11., 11., 11., 11.]])"
            ]
          },
          "metadata": {},
          "execution_count": 21
        }
      ]
    },
    {
      "cell_type": "markdown",
      "metadata": {
        "id": "4f114175"
      },
      "source": [
        "**5.** Create a NumPy array containing 5 strings.\n",
        "Each string must be no more than 3 characters long.\n",
        "Now set the first element of the string to be &ldquo;hello&rdquo;.\n",
        "Verify that it is correct by printing that element out.\n",
        "(Hint: Use a keyword parameter so that the `dtype` of the array is a string of sufficient length to allow &ldquo;hello&rdquo; to be stored.)"
      ]
    },
    {
      "cell_type": "code",
      "source": [
        "import numpy as np\n",
        "\n",
        "b = np.array(('abc','fgh','den','sdf','rty'), dtype='U5')\n",
        "\n",
        "print(b)\n",
        "b[0] = 'hello'\n",
        "print(b)"
      ],
      "metadata": {
        "id": "vjgdZdYJCt0P",
        "colab": {
          "base_uri": "https://localhost:8080/"
        },
        "outputId": "acb1b2dc-92e2-4856-8259-2a655ccefff5"
      },
      "execution_count": null,
      "outputs": [
        {
          "output_type": "stream",
          "name": "stdout",
          "text": [
            "['abc' 'fgh' 'den' 'sdf' 'rty']\n",
            "['hello' 'fgh' 'den' 'sdf' 'rty']\n"
          ]
        }
      ]
    },
    {
      "cell_type": "markdown",
      "metadata": {
        "id": "077f017d"
      },
      "source": [
        "**6.** Create a 2x3 array named `a` of integers from 0 to 5.\n",
        "Create another 2x3 array named `b` of integers from 11 to 6.\n",
        "Subtract the two array and square the difference, assigning to a third array named `c`."
      ]
    },
    {
      "cell_type": "code",
      "source": [
        "import numpy as np\n",
        "\n",
        "a = np.arange(0,6,1)\n",
        "a = a.reshape(2,3)\n",
        "print(a)\n",
        "\n",
        "b = np.arange(11,5,-1)\n",
        "b = b.reshape(2,3)\n",
        "print(b)\n",
        "\n",
        "c = (a-b)**2\n",
        "c"
      ],
      "metadata": {
        "id": "6NOWqjr0Cuo-",
        "colab": {
          "base_uri": "https://localhost:8080/"
        },
        "outputId": "fd9afe75-785a-420f-cf21-0e6db7e0d215"
      },
      "execution_count": null,
      "outputs": [
        {
          "output_type": "stream",
          "name": "stdout",
          "text": [
            "[[0 1 2]\n",
            " [3 4 5]]\n",
            "[[11 10  9]\n",
            " [ 8  7  6]]\n"
          ]
        },
        {
          "output_type": "execute_result",
          "data": {
            "text/plain": [
              "array([[121,  81,  49],\n",
              "       [ 25,   9,   1]])"
            ]
          },
          "metadata": {},
          "execution_count": 31
        }
      ]
    },
    {
      "cell_type": "markdown",
      "metadata": {
        "id": "a841151c"
      },
      "source": [
        "**7.1** Create a 2x3 array named `a` of integers from 0 to 5.  Use broadcasting to scale each column in all rows by 1, 2, and 3, respectively, and create a new array `b`.  In other words, $b_{i,k} = (k + 1)a_{i,k}$, for $a_{i,k}$ an element of `a` and $b_{i,k}$ and element of `b`, and $k$ from 0 to 2."
      ]
    },
    {
      "cell_type": "code",
      "source": [
        "import numpy as np\n",
        "\n",
        "a = np.arange(0,6,1)\n",
        "a = a.reshape(2,3)\n",
        "print(a)\n",
        "\n",
        "b = a * np.array((1,2,3))\n",
        "print(b)"
      ],
      "metadata": {
        "id": "UybpUEBGCvYu",
        "colab": {
          "base_uri": "https://localhost:8080/"
        },
        "outputId": "a9b8ff87-8236-48b9-cccd-24e0da0fc09e"
      },
      "execution_count": null,
      "outputs": [
        {
          "output_type": "stream",
          "name": "stdout",
          "text": [
            "[[0 1 2]\n",
            " [3 4 5]]\n",
            "[[ 0  2  6]\n",
            " [ 3  8 15]]\n"
          ]
        }
      ]
    },
    {
      "cell_type": "markdown",
      "metadata": {
        "id": "7a18ef9a"
      },
      "source": [
        "**7.2** Now use broadcasting to scale all columns in the first row of `a` by 2, and all columns in the second row by 3."
      ]
    },
    {
      "cell_type": "code",
      "source": [
        "b = a * np.array((2,3)).reshape(2,1)\n",
        "print(b)"
      ],
      "metadata": {
        "id": "Iq0qIqpHCwNs",
        "colab": {
          "base_uri": "https://localhost:8080/"
        },
        "outputId": "42e61ed2-cb70-40bb-8e0d-de06e204855f"
      },
      "execution_count": null,
      "outputs": [
        {
          "output_type": "stream",
          "name": "stdout",
          "text": [
            "[[ 0  2  4]\n",
            " [ 9 12 15]]\n"
          ]
        }
      ]
    },
    {
      "cell_type": "markdown",
      "metadata": {
        "id": "10e7b725"
      },
      "source": [
        "**8.** Create a 4x4 array.  Use slicing and ufuncs to set the middle 2x2 array to the square root of the original values.  Make sure the new array is a copy of the original, do not overwrite the original values."
      ]
    },
    {
      "cell_type": "code",
      "source": [
        "a = np.arange(16).reshape(4,4)\n",
        "a = a.astype('float64')\n",
        "print(a)\n",
        "b = a.copy()\n",
        "b[1:3,1:3]= np.sqrt(b[1:3,1:3])\n",
        "print(a)\n",
        "print(b)"
      ],
      "metadata": {
        "id": "8bJSE2WdCw-E",
        "colab": {
          "base_uri": "https://localhost:8080/"
        },
        "outputId": "0778e7e6-d422-484a-d30c-8d0de2e5c123"
      },
      "execution_count": null,
      "outputs": [
        {
          "output_type": "stream",
          "name": "stdout",
          "text": [
            "[[ 0.  1.  2.  3.]\n",
            " [ 4.  5.  6.  7.]\n",
            " [ 8.  9. 10. 11.]\n",
            " [12. 13. 14. 15.]]\n",
            "[[ 0.  1.  2.  3.]\n",
            " [ 4.  5.  6.  7.]\n",
            " [ 8.  9. 10. 11.]\n",
            " [12. 13. 14. 15.]]\n",
            "[[ 0.          1.          2.          3.        ]\n",
            " [ 4.          2.23606798  2.44948974  7.        ]\n",
            " [ 8.          3.          3.16227766 11.        ]\n",
            " [12.         13.         14.         15.        ]]\n"
          ]
        }
      ]
    },
    {
      "cell_type": "markdown",
      "metadata": {
        "id": "0346a6f4"
      },
      "source": [
        "**9.** Use `np.random.random((3, 4))` to create two 3x4 arrays named `a` and `b` respectively.\n",
        "Create a third array named `c` that consists of elements of `a` if the element in `a` is non-negative,\n",
        "but elements of `b` if the element of a is negative.\n",
        "In other words, let $a$, $b$, and $c$ be corresponding elements.\n",
        "Then $c = a$ if $a \\ge 0$, otherwise $c = b$."
      ]
    },
    {
      "cell_type": "code",
      "source": [
        "a = np.random.random((3, 4))\n",
        "b = np.random.random((3, 4))\n",
        "c = np.empty((3,4))\n",
        "for i in range(3):\n",
        "  for j in range(4):\n",
        "    if a[i,j] >= 0:\n",
        "      c[i,j] = a[i,j]\n",
        "    else:\n",
        "      c[i,j] = b[i,j]\n",
        "print(a)\n",
        "print(b)\n",
        "print(c)"
      ],
      "metadata": {
        "id": "gND_brptCxuG",
        "colab": {
          "base_uri": "https://localhost:8080/"
        },
        "outputId": "1d1e777a-6306-4c79-9a13-aa1361677a47"
      },
      "execution_count": null,
      "outputs": [
        {
          "output_type": "stream",
          "name": "stdout",
          "text": [
            "[[0.02633524 0.51494985 0.8199225  0.34239579]\n",
            " [0.42712753 0.01817601 0.12663378 0.67230199]\n",
            " [0.651093   0.77782947 0.03015649 0.54754646]]\n",
            "[[0.92471733 0.80312419 0.21530394 0.46212445]\n",
            " [0.51651755 0.84917905 0.23007049 0.35338956]\n",
            " [0.00435763 0.55331498 0.27317618 0.1826403 ]]\n",
            "[[0.02633524 0.51494985 0.8199225  0.34239579]\n",
            " [0.42712753 0.01817601 0.12663378 0.67230199]\n",
            " [0.651093   0.77782947 0.03015649 0.54754646]]\n"
          ]
        }
      ]
    },
    {
      "cell_type": "markdown",
      "metadata": {
        "id": "b1c33a34"
      },
      "source": [
        "**10.** Use ufuncs to compute an array `c` of two array `a` and `b`,\n",
        "where each element in `c` is $a^\\sqrt{b}$ and $a$ and $b$ are the corresponding elements in `a` and `b`.\n",
        "(The arrays `a` and `b` do *not* need to be from Problem 11, and may be of any reasonable shape.You may use any values you wish in `a` and `b`, but of course they should not all be the same value.)"
      ]
    },
    {
      "cell_type": "code",
      "source": [
        "a = np.random.random((3, 4))\n",
        "b = np.random.random((3, 4))\n",
        "c = np.empty((3,4))\n",
        "for i in range(3):\n",
        "  for j in range(4):\n",
        "      c[i,j] = a[i,j] ** (b[i,j] ** (1/2))\n",
        "print(a)\n",
        "print(b)\n",
        "print(c)"
      ],
      "metadata": {
        "id": "7S3MQr_GCye7",
        "colab": {
          "base_uri": "https://localhost:8080/"
        },
        "outputId": "ad630bcb-3395-4cbb-e6e4-9711401b06a9"
      },
      "execution_count": null,
      "outputs": [
        {
          "output_type": "stream",
          "name": "stdout",
          "text": [
            "[[0.64893142 0.58208652 0.1793385  0.67237878]\n",
            " [0.71023039 0.85533286 0.22602184 0.43435284]\n",
            " [0.66386247 0.25657107 0.33899117 0.2204867 ]]\n",
            "[[0.75232945 0.42156536 0.99469685 0.15070907]\n",
            " [0.74291191 0.24223651 0.15877938 0.50870657]\n",
            " [0.71032045 0.32268594 0.54999464 0.61928742]]\n",
            "[[0.68723776 0.70373793 0.18015865 0.85719094]\n",
            " [0.74459058 0.9259736  0.55290112 0.55169126]\n",
            " [0.70802163 0.46174027 0.4483117  0.3042818 ]]\n"
          ]
        }
      ]
    },
    {
      "cell_type": "markdown",
      "source": [
        "**11.** Using `.linspace()`,\n",
        "create an `ndarray` containing 4 numbers,\n",
        "from 0 to 10."
      ],
      "metadata": {
        "id": "O8StwgPl3qtx"
      }
    },
    {
      "cell_type": "code",
      "source": [
        "import numpy as np\n",
        "m = np.linspace(0, 10, 4)\n",
        "print(m)"
      ],
      "metadata": {
        "id": "gk0WRP7vCnTe",
        "colab": {
          "base_uri": "https://localhost:8080/"
        },
        "outputId": "d5317ccf-f4a7-45a6-cda9-982c66cf36bf"
      },
      "execution_count": null,
      "outputs": [
        {
          "output_type": "stream",
          "name": "stdout",
          "text": [
            "[ 0.          3.33333333  6.66666667 10.        ]\n"
          ]
        }
      ]
    }
  ]
}